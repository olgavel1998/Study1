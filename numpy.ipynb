{
 "cells": [
  {
   "cell_type": "code",
   "execution_count": null,
   "metadata": {},
   "outputs": [],
   "source": [
    "import numpy as np\n",
    "a = np. array ([[1, 2, 3], [3, 4, 5]])\n",
    "np.sum(a)"
   ]
  },
  {
   "cell_type": "code",
   "execution_count": 3,
   "metadata": {},
   "outputs": [
    {
     "name": "stdout",
     "output_type": "stream",
     "text": [
      "<class 'list'>\n"
     ]
    }
   ],
   "source": [
    "a = [4, 5, 6]\n",
    "print (type(a))\n"
   ]
  },
  {
   "cell_type": "code",
   "execution_count": 6,
   "metadata": {},
   "outputs": [
    {
     "name": "stdout",
     "output_type": "stream",
     "text": [
      "[[ 5  7 10]\n",
      " [11 13 10]]\n"
     ]
    }
   ],
   "source": [
    "A = np. array ([[1, 2, 3], [3, 4, 5]])\n",
    "B = np. array ([[4, 5, 7], [8, 9, 5]])\n",
    "C = A + B \n",
    "print(C)\n"
   ]
  },
  {
   "cell_type": "code",
   "execution_count": 7,
   "metadata": {},
   "outputs": [
    {
     "name": "stdout",
     "output_type": "stream",
     "text": [
      "[[13 18 24]\n",
      " [18 45 62]]\n"
     ]
    }
   ],
   "source": [
    "A = np. array ([[5, 7, 8], [4, 7, 3]])\n",
    "B = np. array ([[1, 3, 4], [4, 6, 3]])\n",
    "C = np. array ([[7, 8, 12], [10, 32, 56]])\n",
    "D = A + B + C\n",
    "print(D)"
   ]
  },
  {
   "cell_type": "code",
   "execution_count": 8,
   "metadata": {},
   "outputs": [
    {
     "name": "stdout",
     "output_type": "stream",
     "text": [
      "[[[[-5  0  3]\n",
      "   [ 0  3  2]\n",
      "   [ 5 -4  5]]]]\n"
     ]
    }
   ],
   "source": [
    "A = np. array ([[[[3, 4, 5], [5, 6, 3], [5, 7, 9]]]])\n",
    "B = np. array ([[[[8, 4, 2], [5, 3, 1], [0, 11, 4]]]])\n",
    "C = A - B\n",
    "print(C)"
   ]
  },
  {
   "cell_type": "code",
   "execution_count": 11,
   "metadata": {},
   "outputs": [
    {
     "name": "stdout",
     "output_type": "stream",
     "text": [
      "<class 'numpy.ndarray'>\n"
     ]
    }
   ],
   "source": [
    "a = np. array([1,4,5])\n",
    "print(type(a))"
   ]
  },
  {
   "cell_type": "code",
   "execution_count": 12,
   "metadata": {
    "scrolled": true
   },
   "outputs": [
    {
     "data": {
      "text/plain": [
       "12"
      ]
     },
     "execution_count": 12,
     "metadata": {},
     "output_type": "execute_result"
    }
   ],
   "source": [
    "np.dot (3,4)\n"
   ]
  },
  {
   "cell_type": "code",
   "execution_count": 16,
   "metadata": {
    "scrolled": true
   },
   "outputs": [
    {
     "data": {
      "text/plain": [
       "numpy.ndarray"
      ]
     },
     "execution_count": 16,
     "metadata": {},
     "output_type": "execute_result"
    }
   ],
   "source": [
    "a = np. array([1,2,3])\n",
    "type(a)"
   ]
  },
  {
   "cell_type": "code",
   "execution_count": 22,
   "metadata": {
    "scrolled": true
   },
   "outputs": [
    {
     "name": "stdout",
     "output_type": "stream",
     "text": [
      "[[0. 0. 0. 0. 0.]\n",
      " [0. 0. 0. 0. 0.]\n",
      " [0. 0. 0. 0. 0.]]\n"
     ]
    }
   ],
   "source": [
    "a = np.zeros ((3, 5))\n",
    "print(a)\n"
   ]
  },
  {
   "cell_type": "code",
   "execution_count": 27,
   "metadata": {},
   "outputs": [
    {
     "name": "stdout",
     "output_type": "stream",
     "text": [
      "[[[1. 1. 1. 1. 1. 1.]\n",
      "  [1. 1. 1. 1. 1. 1.]\n",
      "  [1. 1. 1. 1. 1. 1.]\n",
      "  [1. 1. 1. 1. 1. 1.]\n",
      "  [1. 1. 1. 1. 1. 1.]]\n",
      "\n",
      " [[1. 1. 1. 1. 1. 1.]\n",
      "  [1. 1. 1. 1. 1. 1.]\n",
      "  [1. 1. 1. 1. 1. 1.]\n",
      "  [1. 1. 1. 1. 1. 1.]\n",
      "  [1. 1. 1. 1. 1. 1.]]\n",
      "\n",
      " [[1. 1. 1. 1. 1. 1.]\n",
      "  [1. 1. 1. 1. 1. 1.]\n",
      "  [1. 1. 1. 1. 1. 1.]\n",
      "  [1. 1. 1. 1. 1. 1.]\n",
      "  [1. 1. 1. 1. 1. 1.]]\n",
      "\n",
      " [[1. 1. 1. 1. 1. 1.]\n",
      "  [1. 1. 1. 1. 1. 1.]\n",
      "  [1. 1. 1. 1. 1. 1.]\n",
      "  [1. 1. 1. 1. 1. 1.]\n",
      "  [1. 1. 1. 1. 1. 1.]]]\n"
     ]
    }
   ],
   "source": [
    "a = np.ones(((4,5,6)))\n",
    "print(a) "
   ]
  },
  {
   "cell_type": "code",
   "execution_count": 28,
   "metadata": {},
   "outputs": [
    {
     "name": "stdout",
     "output_type": "stream",
     "text": [
      "[[1. 0. 0. 0. 0. 0.]\n",
      " [0. 1. 0. 0. 0. 0.]\n",
      " [0. 0. 1. 0. 0. 0.]\n",
      " [0. 0. 0. 1. 0. 0.]\n",
      " [0. 0. 0. 0. 1. 0.]\n",
      " [0. 0. 0. 0. 0. 1.]]\n"
     ]
    }
   ],
   "source": [
    "a = np.eye (6)\n",
    "print(a)"
   ]
  },
  {
   "cell_type": "code",
   "execution_count": 30,
   "metadata": {},
   "outputs": [
    {
     "name": "stdout",
     "output_type": "stream",
     "text": [
      "[[2.590768e-316 0.000000e+000 0.000000e+000]\n",
      " [0.000000e+000 0.000000e+000 0.000000e+000]\n",
      " [0.000000e+000 0.000000e+000 0.000000e+000]]\n"
     ]
    }
   ],
   "source": [
    "a = np.empty ((3,3))\n",
    "print(a)"
   ]
  },
  {
   "cell_type": "code",
   "execution_count": 34,
   "metadata": {},
   "outputs": [
    {
     "name": "stdout",
     "output_type": "stream",
     "text": [
      "[]\n"
     ]
    }
   ],
   "source": [
    "a = np.arange (10, 3, 5)\n",
    "print(a)"
   ]
  },
  {
   "cell_type": "code",
   "execution_count": 36,
   "metadata": {},
   "outputs": [
    {
     "name": "stdout",
     "output_type": "stream",
     "text": [
      "[   0    1    2 ... 2997 2998 2999]\n"
     ]
    }
   ],
   "source": [
    "print (np.arange (0, 3000, 1))"
   ]
  },
  {
   "cell_type": "code",
   "execution_count": 38,
   "metadata": {},
   "outputs": [
    {
     "data": {
      "text/plain": [
       "array([1, 4, 7])"
      ]
     },
     "execution_count": 38,
     "metadata": {},
     "output_type": "execute_result"
    }
   ],
   "source": [
    "np.arange(start=1, stop = 10, step = 3 ) \n"
   ]
  },
  {
   "cell_type": "code",
   "execution_count": 39,
   "metadata": {},
   "outputs": [
    {
     "data": {
      "text/plain": [
       "array([1, 3, 5, 7])"
      ]
     },
     "execution_count": 39,
     "metadata": {},
     "output_type": "execute_result"
    }
   ],
   "source": [
    "a = np. array ([1, 2, 3, 4])\n",
    "b = np. arange (4)\n",
    "a + b"
   ]
  },
  {
   "cell_type": "code",
   "execution_count": 40,
   "metadata": {},
   "outputs": [
    {
     "data": {
      "text/plain": [
       "array([2, 3, 4, 5])"
      ]
     },
     "execution_count": 40,
     "metadata": {},
     "output_type": "execute_result"
    }
   ],
   "source": [
    "a + 1\n"
   ]
  },
  {
   "cell_type": "code",
   "execution_count": 41,
   "metadata": {},
   "outputs": [
    {
     "name": "stdout",
     "output_type": "stream",
     "text": [
      "[[ 8 10 12]\n",
      " [ 9 11 14]]\n"
     ]
    }
   ],
   "source": [
    "a = np.array ([[2, 3, 4], [4, 5, 6]])\n",
    "b = np. array ([[6, 7, 8], [5, 6, 8]])\n",
    "c = a + b\n",
    "print(c)"
   ]
  },
  {
   "cell_type": "code",
   "execution_count": 42,
   "metadata": {},
   "outputs": [
    {
     "data": {
      "text/plain": [
       "array([20, 31, 42, 53])"
      ]
     },
     "execution_count": 42,
     "metadata": {},
     "output_type": "execute_result"
    }
   ],
   "source": [
    "a = np. array ([20, 30, 40, 50])\n",
    "b = np. arange (4)\n",
    "a + b "
   ]
  },
  {
   "cell_type": "code",
   "execution_count": 43,
   "metadata": {},
   "outputs": [
    {
     "data": {
      "text/plain": [
       "array([18, 28, 38, 48])"
      ]
     },
     "execution_count": 43,
     "metadata": {},
     "output_type": "execute_result"
    }
   ],
   "source": [
    "a - 2"
   ]
  },
  {
   "cell_type": "code",
   "execution_count": 44,
   "metadata": {},
   "outputs": [
    {
     "data": {
      "text/plain": [
       "array([  8000,  27000,  64000, 125000])"
      ]
     },
     "execution_count": 44,
     "metadata": {},
     "output_type": "execute_result"
    }
   ],
   "source": [
    "a **3"
   ]
  },
  {
   "cell_type": "code",
   "execution_count": 45,
   "metadata": {},
   "outputs": [
    {
     "data": {
      "text/plain": [
       "array([ 0.40808206,  0.15425145, -0.66693806,  0.96496603])"
      ]
     },
     "execution_count": 45,
     "metadata": {},
     "output_type": "execute_result"
    }
   ],
   "source": [
    "np.cos(a)"
   ]
  },
  {
   "cell_type": "code",
   "execution_count": 46,
   "metadata": {},
   "outputs": [
    {
     "data": {
      "text/plain": [
       "21"
      ]
     },
     "execution_count": 46,
     "metadata": {},
     "output_type": "execute_result"
    }
   ],
   "source": [
    "a = np.array ([[1, 2, 3], [4, 5, 6]])\n",
    "np.sum(a)"
   ]
  },
  {
   "cell_type": "code",
   "execution_count": 47,
   "metadata": {},
   "outputs": [
    {
     "data": {
      "text/plain": [
       "21"
      ]
     },
     "execution_count": 47,
     "metadata": {},
     "output_type": "execute_result"
    }
   ],
   "source": [
    "a.sum()"
   ]
  },
  {
   "cell_type": "code",
   "execution_count": 48,
   "metadata": {},
   "outputs": [
    {
     "data": {
      "text/plain": [
       "1"
      ]
     },
     "execution_count": 48,
     "metadata": {},
     "output_type": "execute_result"
    }
   ],
   "source": [
    "a.min()"
   ]
  },
  {
   "cell_type": "code",
   "execution_count": 50,
   "metadata": {},
   "outputs": [
    {
     "data": {
      "text/plain": [
       "6"
      ]
     },
     "execution_count": 50,
     "metadata": {},
     "output_type": "execute_result"
    }
   ],
   "source": [
    "a.max()"
   ]
  },
  {
   "cell_type": "code",
   "execution_count": 51,
   "metadata": {},
   "outputs": [
    {
     "data": {
      "text/plain": [
       "array([1, 2, 3])"
      ]
     },
     "execution_count": 51,
     "metadata": {},
     "output_type": "execute_result"
    }
   ],
   "source": [
    "a.min(axis = 0)"
   ]
  },
  {
   "cell_type": "code",
   "execution_count": 52,
   "metadata": {},
   "outputs": [
    {
     "data": {
      "text/plain": [
       "array([1, 4])"
      ]
     },
     "execution_count": 52,
     "metadata": {},
     "output_type": "execute_result"
    }
   ],
   "source": [
    "a.min(axis = 1)\n"
   ]
  },
  {
   "cell_type": "code",
   "execution_count": 56,
   "metadata": {},
   "outputs": [
    {
     "name": "stdout",
     "output_type": "stream",
     "text": [
      "[4277.16 3504.64 4044.96 7814.56 4719.69]\n"
     ]
    }
   ],
   "source": [
    "a = np.array ([1.73, 1.68, 1.71, 1.79])\n",
    "b = np.array ([65.4, 59.2, 63.6, 88.4, 68.7])\n",
    "c = b **2\n",
    "print(c)"
   ]
  },
  {
   "cell_type": "code",
   "execution_count": 57,
   "metadata": {},
   "outputs": [
    {
     "data": {
      "text/plain": [
       "14"
      ]
     },
     "execution_count": 57,
     "metadata": {},
     "output_type": "execute_result"
    }
   ],
   "source": [
    "a = np.arange(10, 16)\n",
    "a = np. array ([10, 11, 12, 13, 14, 15])\n",
    "a[4]"
   ]
  },
  {
   "cell_type": "code",
   "execution_count": 59,
   "metadata": {},
   "outputs": [
    {
     "data": {
      "text/plain": [
       "26"
      ]
     },
     "execution_count": 59,
     "metadata": {},
     "output_type": "execute_result"
    }
   ],
   "source": [
    "a = np.arange (23, 45)\n",
    "a = np.array ([23, 24, 25, 26, 27, 28])\n",
    "a[-3]"
   ]
  },
  {
   "cell_type": "code",
   "execution_count": 65,
   "metadata": {},
   "outputs": [
    {
     "data": {
      "text/plain": [
       "array([11, 13, 14])"
      ]
     },
     "execution_count": 65,
     "metadata": {},
     "output_type": "execute_result"
    }
   ],
   "source": [
    "a = np.arange (10, 16)\n",
    "a = np.array ([10, 11, 12, 13, 14, 15])\n",
    "a[[1, 3, 4]]"
   ]
  },
  {
   "cell_type": "code",
   "execution_count": 69,
   "metadata": {},
   "outputs": [
    {
     "name": "stdout",
     "output_type": "stream",
     "text": [
      "[[15 16 17]\n",
      " [18 19 20]\n",
      " [21 22 23]]\n"
     ]
    }
   ],
   "source": [
    "a = np.arange (15,24). reshape ((3, 3))\n",
    "print(a)\n"
   ]
  },
  {
   "cell_type": "code",
   "execution_count": 71,
   "metadata": {},
   "outputs": [
    {
     "data": {
      "text/plain": [
       "array([11, 12, 13, 14])"
      ]
     },
     "execution_count": 71,
     "metadata": {},
     "output_type": "execute_result"
    }
   ],
   "source": [
    "a = np.arange (10, 16)\n",
    "a = np.array ([10, 11, 12, 13, 14, 15])\n",
    "a[1:5]"
   ]
  },
  {
   "cell_type": "code",
   "execution_count": 75,
   "metadata": {},
   "outputs": [
    {
     "name": "stdout",
     "output_type": "stream",
     "text": [
      "10\n",
      "11\n",
      "12\n",
      "13\n",
      "14\n",
      "15\n"
     ]
    }
   ],
   "source": [
    "a = np.arange (10, 16)\n",
    "a = np. array ([10, 11, 12, 13, 14, 15])\n",
    "for i in a:\n",
    "    print(i)"
   ]
  },
  {
   "cell_type": "code",
   "execution_count": 76,
   "metadata": {},
   "outputs": [
    {
     "name": "stdout",
     "output_type": "stream",
     "text": [
      "[[[3 4 5]\n",
      "  [5 6 3]\n",
      "  [5 7 9]]]\n"
     ]
    }
   ],
   "source": [
    "a = np.arange (10, 16)\n",
    "a = np. array ([10, 11, 12, 13, 14, 15])\n",
    "for row in A:\n",
    "    print(row)"
   ]
  },
  {
   "cell_type": "code",
   "execution_count": 79,
   "metadata": {},
   "outputs": [
    {
     "name": "stdout",
     "output_type": "stream",
     "text": [
      "3\n",
      "4\n",
      "5\n",
      "5\n",
      "6\n",
      "3\n",
      "5\n",
      "7\n",
      "9\n"
     ]
    }
   ],
   "source": [
    "a = np. arange (10, 16)\n",
    "a = np. array ([10, 11, 12, 13, 14, 15])\n",
    "for item in A.flat:\n",
    "    print(item)"
   ]
  },
  {
   "cell_type": "code",
   "execution_count": 82,
   "metadata": {},
   "outputs": [
    {
     "data": {
      "text/plain": [
       "(2, 2, 3)"
      ]
     },
     "execution_count": 82,
     "metadata": {},
     "output_type": "execute_result"
    }
   ],
   "source": [
    "a = np. array ([[[0, 1, 2], \n",
    "                 [10, 12, 13]], \n",
    "                 [[100, 101, 102], \n",
    "                [110, 112, 113]]])\n",
    "a. shape "
   ]
  },
  {
   "cell_type": "code",
   "execution_count": 83,
   "metadata": {},
   "outputs": [
    {
     "data": {
      "text/plain": [
       "array([  0,   1,   2,  10,  12,  13, 100, 101, 102, 110, 112, 113])"
      ]
     },
     "execution_count": 83,
     "metadata": {},
     "output_type": "execute_result"
    }
   ],
   "source": [
    "a = np. array ([[[0, 1, 2], \n",
    "                 [10, 12, 13]], \n",
    "                 [[100, 101, 102], \n",
    "                [110, 112, 113]]])\n",
    "a.ravel()"
   ]
  },
  {
   "cell_type": "code",
   "execution_count": 95,
   "metadata": {},
   "outputs": [
    {
     "name": "stdout",
     "output_type": "stream",
     "text": [
      "[[  0   1]\n",
      " [  2  10]\n",
      " [ 12  13]\n",
      " [100 101]\n",
      " [102 110]\n",
      " [112 113]]\n"
     ]
    }
   ],
   "source": [
    "a = np. array ([0, 1, 2, 10, 12, 13, 100, 101, 102, 110, 112, 113])\n",
    "a.shape = (6, 2)\n",
    "print(a)"
   ]
  },
  {
   "cell_type": "code",
   "execution_count": 98,
   "metadata": {},
   "outputs": [
    {
     "name": "stdout",
     "output_type": "stream",
     "text": [
      "[  0   1   2  10  12  13 100 101 102 110 112 113]\n"
     ]
    }
   ],
   "source": [
    "a = np. array ([0, 1, 2, 10, 12, 13, 100, 101, 102, 110, 112, 113])\n",
    "a.transpose()\n",
    "print(a)"
   ]
  },
  {
   "cell_type": "code",
   "execution_count": 99,
   "metadata": {},
   "outputs": [
    {
     "data": {
      "text/plain": [
       "array([[1, 2],\n",
       "       [3, 4],\n",
       "       [5, 6],\n",
       "       [7, 8]])"
      ]
     },
     "execution_count": 99,
     "metadata": {},
     "output_type": "execute_result"
    }
   ],
   "source": [
    "a = np.array ([[1, 2], [3, 4]])\n",
    "b = np.array ([[5, 6], [7, 8]])\n",
    "np.vstack ((a, b))\n",
    "\n"
   ]
  },
  {
   "cell_type": "code",
   "execution_count": 101,
   "metadata": {},
   "outputs": [
    {
     "data": {
      "text/plain": [
       "array([[1, 2, 5, 6],\n",
       "       [3, 4, 7, 8]])"
      ]
     },
     "execution_count": 101,
     "metadata": {},
     "output_type": "execute_result"
    }
   ],
   "source": [
    "a = np.array ([[1, 2], [3, 4]])\n",
    "b = np.array ([[5, 6], [7, 8]])\n",
    "np.hstack ((a, b))"
   ]
  },
  {
   "cell_type": "code",
   "execution_count": 102,
   "metadata": {},
   "outputs": [
    {
     "data": {
      "text/plain": [
       "array([[1, 2, 5, 6],\n",
       "       [3, 4, 7, 8]])"
      ]
     },
     "execution_count": 102,
     "metadata": {},
     "output_type": "execute_result"
    }
   ],
   "source": [
    "a = np.array ([[1, 2], [3, 4]])\n",
    "b = np.array ([[5, 6], [7, 8]])\n",
    "np.column_stack((a,b))"
   ]
  },
  {
   "cell_type": "code",
   "execution_count": 103,
   "metadata": {},
   "outputs": [
    {
     "data": {
      "text/plain": [
       "array([[[1, 2],\n",
       "        [3, 4]],\n",
       "\n",
       "       [[5, 6],\n",
       "        [7, 8]]])"
      ]
     },
     "execution_count": 103,
     "metadata": {},
     "output_type": "execute_result"
    }
   ],
   "source": [
    "a = np.array ([[[1, 2], [3, 4]]])\n",
    "b = np.array ([[[5, 6], [7, 8]]])\n",
    "np.row_stack ((a,b))"
   ]
  },
  {
   "cell_type": "code",
   "execution_count": 106,
   "metadata": {},
   "outputs": [
    {
     "name": "stdout",
     "output_type": "stream",
     "text": [
      "[[ 0  1  2  3  4  5]\n",
      " [ 6  7  8  9 10 11]]\n"
     ]
    }
   ],
   "source": [
    "a = np.arange(12).reshape((2, 6))\n",
    "print(a)"
   ]
  },
  {
   "cell_type": "code",
   "execution_count": 108,
   "metadata": {},
   "outputs": [
    {
     "data": {
      "text/plain": [
       "[array([[0, 1],\n",
       "        [6, 7]]),\n",
       " array([[2, 3],\n",
       "        [8, 9]]),\n",
       " array([[ 4,  5],\n",
       "        [10, 11]])]"
      ]
     },
     "execution_count": 108,
     "metadata": {},
     "output_type": "execute_result"
    }
   ],
   "source": [
    "np.hsplit(a,3)"
   ]
  },
  {
   "cell_type": "code",
   "execution_count": 109,
   "metadata": {},
   "outputs": [
    {
     "data": {
      "text/plain": [
       "[array([[0, 1, 2],\n",
       "        [6, 7, 8]]),\n",
       " array([[3],\n",
       "        [9]]),\n",
       " array([[ 4,  5],\n",
       "        [10, 11]])]"
      ]
     },
     "execution_count": 109,
     "metadata": {},
     "output_type": "execute_result"
    }
   ],
   "source": [
    "np.hsplit (a,(3,4))\n"
   ]
  },
  {
   "cell_type": "code",
   "execution_count": 2,
   "metadata": {},
   "outputs": [
    {
     "data": {
      "text/plain": [
       "0    1\n",
       "1    2\n",
       "2    3\n",
       "3    4\n",
       "4    5\n",
       "dtype: int64"
      ]
     },
     "execution_count": 2,
     "metadata": {},
     "output_type": "execute_result"
    }
   ],
   "source": [
    "import pandas as pd\n",
    "my_series = pd.Series ([1, 2, 3, 4, 5])\n",
    "my_series "
   ]
  },
  {
   "cell_type": "code",
   "execution_count": 3,
   "metadata": {},
   "outputs": [
    {
     "data": {
      "text/plain": [
       "RangeIndex(start=0, stop=5, step=1)"
      ]
     },
     "execution_count": 3,
     "metadata": {},
     "output_type": "execute_result"
    }
   ],
   "source": [
    "my_series.index"
   ]
  },
  {
   "cell_type": "code",
   "execution_count": 5,
   "metadata": {},
   "outputs": [
    {
     "data": {
      "text/plain": [
       "array([1, 2, 3, 4, 5])"
      ]
     },
     "execution_count": 5,
     "metadata": {},
     "output_type": "execute_result"
    }
   ],
   "source": [
    "my_series.values"
   ]
  },
  {
   "cell_type": "code",
   "execution_count": 6,
   "metadata": {},
   "outputs": [
    {
     "data": {
      "text/plain": [
       "5"
      ]
     },
     "execution_count": 6,
     "metadata": {},
     "output_type": "execute_result"
    }
   ],
   "source": [
    "my_series[4]"
   ]
  },
  {
   "cell_type": "code",
   "execution_count": 13,
   "metadata": {},
   "outputs": [
    {
     "data": {
      "text/plain": [
       "10"
      ]
     },
     "execution_count": 13,
     "metadata": {},
     "output_type": "execute_result"
    }
   ],
   "source": [
    "my_series2 = pd.Series ([5, 6, 7, 8, 9 ,10], index = ['a', 'b', 'c', 'd', 'e', 'f'])\n",
    "my_series2['f']"
   ]
  },
  {
   "cell_type": "code",
   "execution_count": 14,
   "metadata": {},
   "outputs": [
    {
     "data": {
      "text/plain": [
       "a     5\n",
       "b     6\n",
       "f    10\n",
       "dtype: int64"
      ]
     },
     "execution_count": 14,
     "metadata": {},
     "output_type": "execute_result"
    }
   ],
   "source": [
    "my_series2[['a','b','f']]\n"
   ]
  },
  {
   "cell_type": "code",
   "execution_count": 16,
   "metadata": {},
   "outputs": [
    {
     "data": {
      "text/plain": [
       "a    0\n",
       "b    0\n",
       "c    7\n",
       "d    8\n",
       "e    9\n",
       "f    0\n",
       "dtype: int64"
      ]
     },
     "execution_count": 16,
     "metadata": {},
     "output_type": "execute_result"
    }
   ],
   "source": [
    "my_series2[['a','b','f']]=0\n",
    "my_series2"
   ]
  },
  {
   "cell_type": "code",
   "execution_count": 17,
   "metadata": {},
   "outputs": [
    {
     "data": {
      "text/plain": [
       "c    7\n",
       "d    8\n",
       "e    9\n",
       "dtype: int64"
      ]
     },
     "execution_count": 17,
     "metadata": {},
     "output_type": "execute_result"
    }
   ],
   "source": [
    "my_series2[my_series2>0]"
   ]
  },
  {
   "cell_type": "code",
   "execution_count": 18,
   "metadata": {},
   "outputs": [
    {
     "data": {
      "text/plain": [
       "c    14\n",
       "d    16\n",
       "e    18\n",
       "dtype: int64"
      ]
     },
     "execution_count": 18,
     "metadata": {},
     "output_type": "execute_result"
    }
   ],
   "source": [
    "my_series2[my_series2>0]*2"
   ]
  },
  {
   "cell_type": "code",
   "execution_count": 19,
   "metadata": {},
   "outputs": [
    {
     "data": {
      "text/plain": [
       "a    5\n",
       "b    6\n",
       "c    7\n",
       "d    8\n",
       "dtype: int64"
      ]
     },
     "execution_count": 19,
     "metadata": {},
     "output_type": "execute_result"
    }
   ],
   "source": [
    "my_series3=pd.Series({'a':5, 'b':6, 'c':7, 'd':8})\n",
    "my_series3"
   ]
  },
  {
   "cell_type": "code",
   "execution_count": 21,
   "metadata": {},
   "outputs": [
    {
     "data": {
      "text/plain": [
       "letters\n",
       "a    5\n",
       "b    6\n",
       "c    7\n",
       "d    8\n",
       "Name: numbers, dtype: int64"
      ]
     },
     "execution_count": 21,
     "metadata": {},
     "output_type": "execute_result"
    }
   ],
   "source": [
    "my_series3.name = 'numbers'\n",
    "my_series3.index.name = 'letters'\n",
    "my_series3"
   ]
  },
  {
   "cell_type": "code",
   "execution_count": 22,
   "metadata": {},
   "outputs": [
    {
     "data": {
      "text/plain": [
       "A    5\n",
       "B    6\n",
       "C    7\n",
       "D    8\n",
       "Name: numbers, dtype: int64"
      ]
     },
     "execution_count": 22,
     "metadata": {},
     "output_type": "execute_result"
    }
   ],
   "source": [
    "my_series3.index = ['A', 'B', 'C', 'D']\n",
    "my_series3"
   ]
  },
  {
   "cell_type": "code",
   "execution_count": 23,
   "metadata": {},
   "outputs": [
    {
     "data": {
      "text/html": [
       "<div>\n",
       "<style scoped>\n",
       "    .dataframe tbody tr th:only-of-type {\n",
       "        vertical-align: middle;\n",
       "    }\n",
       "\n",
       "    .dataframe tbody tr th {\n",
       "        vertical-align: top;\n",
       "    }\n",
       "\n",
       "    .dataframe thead th {\n",
       "        text-align: right;\n",
       "    }\n",
       "</style>\n",
       "<table border=\"1\" class=\"dataframe\">\n",
       "  <thead>\n",
       "    <tr style=\"text-align: right;\">\n",
       "      <th></th>\n",
       "      <th>country</th>\n",
       "      <th>population</th>\n",
       "      <th>square</th>\n",
       "    </tr>\n",
       "  </thead>\n",
       "  <tbody>\n",
       "    <tr>\n",
       "      <th>0</th>\n",
       "      <td>London</td>\n",
       "      <td>17.9</td>\n",
       "      <td>3452</td>\n",
       "    </tr>\n",
       "    <tr>\n",
       "      <th>1</th>\n",
       "      <td>Berlin</td>\n",
       "      <td>34.5</td>\n",
       "      <td>6745</td>\n",
       "    </tr>\n",
       "    <tr>\n",
       "      <th>2</th>\n",
       "      <td>Ukraine</td>\n",
       "      <td>22.4</td>\n",
       "      <td>3255</td>\n",
       "    </tr>\n",
       "    <tr>\n",
       "      <th>3</th>\n",
       "      <td>Belarus</td>\n",
       "      <td>53.4</td>\n",
       "      <td>4698</td>\n",
       "    </tr>\n",
       "  </tbody>\n",
       "</table>\n",
       "</div>"
      ],
      "text/plain": [
       "   country  population  square\n",
       "0   London        17.9    3452\n",
       "1   Berlin        34.5    6745\n",
       "2  Ukraine        22.4    3255\n",
       "3  Belarus        53.4    4698"
      ]
     },
     "execution_count": 23,
     "metadata": {},
     "output_type": "execute_result"
    }
   ],
   "source": [
    "df = pd.DataFrame ({ 'country':['London', 'Berlin', 'Ukraine', 'Belarus'],\n",
    "                     'population': [17.9, 34.5, 22.4, 53.4],\n",
    "                      'square': [3452, 6745, 3255, 4698]})\n",
    "df"
   ]
  },
  {
   "cell_type": "code",
   "execution_count": 24,
   "metadata": {},
   "outputs": [
    {
     "data": {
      "text/plain": [
       "0    17.9\n",
       "1    34.5\n",
       "2    22.4\n",
       "3    53.4\n",
       "Name: population, dtype: float64"
      ]
     },
     "execution_count": 24,
     "metadata": {},
     "output_type": "execute_result"
    }
   ],
   "source": [
    "df['population']"
   ]
  },
  {
   "cell_type": "code",
   "execution_count": 26,
   "metadata": {},
   "outputs": [
    {
     "data": {
      "text/html": [
       "<div>\n",
       "<style scoped>\n",
       "    .dataframe tbody tr th:only-of-type {\n",
       "        vertical-align: middle;\n",
       "    }\n",
       "\n",
       "    .dataframe tbody tr th {\n",
       "        vertical-align: top;\n",
       "    }\n",
       "\n",
       "    .dataframe thead th {\n",
       "        text-align: right;\n",
       "    }\n",
       "</style>\n",
       "<table border=\"1\" class=\"dataframe\">\n",
       "  <thead>\n",
       "    <tr style=\"text-align: right;\">\n",
       "      <th></th>\n",
       "      <th>population</th>\n",
       "      <th>square</th>\n",
       "    </tr>\n",
       "  </thead>\n",
       "  <tbody>\n",
       "    <tr>\n",
       "      <th>0</th>\n",
       "      <td>17.9</td>\n",
       "      <td>3452</td>\n",
       "    </tr>\n",
       "    <tr>\n",
       "      <th>1</th>\n",
       "      <td>34.5</td>\n",
       "      <td>6745</td>\n",
       "    </tr>\n",
       "    <tr>\n",
       "      <th>2</th>\n",
       "      <td>22.4</td>\n",
       "      <td>3255</td>\n",
       "    </tr>\n",
       "    <tr>\n",
       "      <th>3</th>\n",
       "      <td>53.4</td>\n",
       "      <td>4698</td>\n",
       "    </tr>\n",
       "  </tbody>\n",
       "</table>\n",
       "</div>"
      ],
      "text/plain": [
       "   population  square\n",
       "0        17.9    3452\n",
       "1        34.5    6745\n",
       "2        22.4    3255\n",
       "3        53.4    4698"
      ]
     },
     "execution_count": 26,
     "metadata": {},
     "output_type": "execute_result"
    }
   ],
   "source": [
    "df[['population', 'square']]"
   ]
  },
  {
   "cell_type": "code",
   "execution_count": 27,
   "metadata": {},
   "outputs": [
    {
     "data": {
      "text/html": [
       "<div>\n",
       "<style scoped>\n",
       "    .dataframe tbody tr th:only-of-type {\n",
       "        vertical-align: middle;\n",
       "    }\n",
       "\n",
       "    .dataframe tbody tr th {\n",
       "        vertical-align: top;\n",
       "    }\n",
       "\n",
       "    .dataframe thead th {\n",
       "        text-align: right;\n",
       "    }\n",
       "</style>\n",
       "<table border=\"1\" class=\"dataframe\">\n",
       "  <thead>\n",
       "    <tr style=\"text-align: right;\">\n",
       "      <th></th>\n",
       "      <th>country</th>\n",
       "      <th>population</th>\n",
       "      <th>square</th>\n",
       "    </tr>\n",
       "  </thead>\n",
       "  <tbody>\n",
       "    <tr>\n",
       "      <th>Ld</th>\n",
       "      <td>London</td>\n",
       "      <td>17.9</td>\n",
       "      <td>3452</td>\n",
       "    </tr>\n",
       "    <tr>\n",
       "      <th>Ber</th>\n",
       "      <td>Berlin</td>\n",
       "      <td>34.5</td>\n",
       "      <td>6745</td>\n",
       "    </tr>\n",
       "    <tr>\n",
       "      <th>Ukr</th>\n",
       "      <td>Ukraine</td>\n",
       "      <td>22.4</td>\n",
       "      <td>3255</td>\n",
       "    </tr>\n",
       "    <tr>\n",
       "      <th>Bel</th>\n",
       "      <td>Belarus</td>\n",
       "      <td>53.4</td>\n",
       "      <td>4698</td>\n",
       "    </tr>\n",
       "  </tbody>\n",
       "</table>\n",
       "</div>"
      ],
      "text/plain": [
       "     country  population  square\n",
       "Ld    London        17.9    3452\n",
       "Ber   Berlin        34.5    6745\n",
       "Ukr  Ukraine        22.4    3255\n",
       "Bel  Belarus        53.4    4698"
      ]
     },
     "execution_count": 27,
     "metadata": {},
     "output_type": "execute_result"
    }
   ],
   "source": [
    "df = pd.DataFrame ({ 'country':['London', 'Berlin', 'Ukraine', 'Belarus'],\n",
    "                     'population': [17.9, 34.5, 22.4, 53.4],\n",
    "                      'square': [3452, 6745, 3255, 4698]}\n",
    "                       , index = ['Ld', 'Ber', 'Ukr', 'Bel'])\n",
    "df"
   ]
  },
  {
   "cell_type": "code",
   "execution_count": 28,
   "metadata": {},
   "outputs": [
    {
     "data": {
      "text/html": [
       "<div>\n",
       "<style scoped>\n",
       "    .dataframe tbody tr th:only-of-type {\n",
       "        vertical-align: middle;\n",
       "    }\n",
       "\n",
       "    .dataframe tbody tr th {\n",
       "        vertical-align: top;\n",
       "    }\n",
       "\n",
       "    .dataframe thead th {\n",
       "        text-align: right;\n",
       "    }\n",
       "</style>\n",
       "<table border=\"1\" class=\"dataframe\">\n",
       "  <thead>\n",
       "    <tr style=\"text-align: right;\">\n",
       "      <th></th>\n",
       "      <th>country</th>\n",
       "      <th>population</th>\n",
       "      <th>square</th>\n",
       "    </tr>\n",
       "    <tr>\n",
       "      <th>Country Code</th>\n",
       "      <th></th>\n",
       "      <th></th>\n",
       "      <th></th>\n",
       "    </tr>\n",
       "  </thead>\n",
       "  <tbody>\n",
       "    <tr>\n",
       "      <th>Ld</th>\n",
       "      <td>London</td>\n",
       "      <td>17.9</td>\n",
       "      <td>3452</td>\n",
       "    </tr>\n",
       "    <tr>\n",
       "      <th>Ber</th>\n",
       "      <td>Berlin</td>\n",
       "      <td>34.5</td>\n",
       "      <td>6745</td>\n",
       "    </tr>\n",
       "    <tr>\n",
       "      <th>Ukr</th>\n",
       "      <td>Ukraine</td>\n",
       "      <td>22.4</td>\n",
       "      <td>3255</td>\n",
       "    </tr>\n",
       "    <tr>\n",
       "      <th>Bel</th>\n",
       "      <td>Belarus</td>\n",
       "      <td>53.4</td>\n",
       "      <td>4698</td>\n",
       "    </tr>\n",
       "  </tbody>\n",
       "</table>\n",
       "</div>"
      ],
      "text/plain": [
       "              country  population  square\n",
       "Country Code                             \n",
       "Ld             London        17.9    3452\n",
       "Ber            Berlin        34.5    6745\n",
       "Ukr           Ukraine        22.4    3255\n",
       "Bel           Belarus        53.4    4698"
      ]
     },
     "execution_count": 28,
     "metadata": {},
     "output_type": "execute_result"
    }
   ],
   "source": [
    "df.index = ['Ld', 'Ber', 'Ukr', 'Bel']\n",
    "df.index.name = 'Country Code'\n",
    "df"
   ]
  },
  {
   "cell_type": "code",
   "execution_count": 30,
   "metadata": {},
   "outputs": [
    {
     "data": {
      "text/plain": [
       "Country Code\n",
       "Ld      London\n",
       "Ber     Berlin\n",
       "Ukr    Ukraine\n",
       "Bel    Belarus\n",
       "Name: country, dtype: object"
      ]
     },
     "execution_count": 30,
     "metadata": {},
     "output_type": "execute_result"
    }
   ],
   "source": [
    "df['country']"
   ]
  },
  {
   "cell_type": "code",
   "execution_count": 33,
   "metadata": {},
   "outputs": [
    {
     "data": {
      "text/plain": [
       "country       Berlin\n",
       "population      34.5\n",
       "square          6745\n",
       "Name: Ber, dtype: object"
      ]
     },
     "execution_count": 33,
     "metadata": {},
     "output_type": "execute_result"
    }
   ],
   "source": [
    "df.loc['Ber']"
   ]
  },
  {
   "cell_type": "code",
   "execution_count": 34,
   "metadata": {},
   "outputs": [
    {
     "data": {
      "text/plain": [
       "country       Belarus\n",
       "population       53.4\n",
       "square           4698\n",
       "Name: Bel, dtype: object"
      ]
     },
     "execution_count": 34,
     "metadata": {},
     "output_type": "execute_result"
    }
   ],
   "source": [
    "df.iloc[3]"
   ]
  },
  {
   "cell_type": "code",
   "execution_count": 36,
   "metadata": {},
   "outputs": [
    {
     "data": {
      "text/plain": [
       "Country Code\n",
       "Ukr    3255\n",
       "Ld     3452\n",
       "Name: square, dtype: int64"
      ]
     },
     "execution_count": 36,
     "metadata": {},
     "output_type": "execute_result"
    }
   ],
   "source": [
    "df.loc[['Ukr','Ld'], 'square']\n"
   ]
  },
  {
   "cell_type": "code",
   "execution_count": 41,
   "metadata": {},
   "outputs": [
    {
     "data": {
      "text/html": [
       "<div>\n",
       "<style scoped>\n",
       "    .dataframe tbody tr th:only-of-type {\n",
       "        vertical-align: middle;\n",
       "    }\n",
       "\n",
       "    .dataframe tbody tr th {\n",
       "        vertical-align: top;\n",
       "    }\n",
       "\n",
       "    .dataframe thead th {\n",
       "        text-align: right;\n",
       "    }\n",
       "</style>\n",
       "<table border=\"1\" class=\"dataframe\">\n",
       "  <thead>\n",
       "    <tr style=\"text-align: right;\">\n",
       "      <th></th>\n",
       "      <th>country</th>\n",
       "      <th>square</th>\n",
       "    </tr>\n",
       "    <tr>\n",
       "      <th>Country Code</th>\n",
       "      <th></th>\n",
       "      <th></th>\n",
       "    </tr>\n",
       "  </thead>\n",
       "  <tbody>\n",
       "    <tr>\n",
       "      <th>Ld</th>\n",
       "      <td>London</td>\n",
       "      <td>3452</td>\n",
       "    </tr>\n",
       "    <tr>\n",
       "      <th>Ber</th>\n",
       "      <td>Berlin</td>\n",
       "      <td>6745</td>\n",
       "    </tr>\n",
       "    <tr>\n",
       "      <th>Ukr</th>\n",
       "      <td>Ukraine</td>\n",
       "      <td>3255</td>\n",
       "    </tr>\n",
       "    <tr>\n",
       "      <th>Bel</th>\n",
       "      <td>Belarus</td>\n",
       "      <td>4698</td>\n",
       "    </tr>\n",
       "  </tbody>\n",
       "</table>\n",
       "</div>"
      ],
      "text/plain": [
       "              country  square\n",
       "Country Code                 \n",
       "Ld             London    3452\n",
       "Ber            Berlin    6745\n",
       "Ukr           Ukraine    3255\n",
       "Bel           Belarus    4698"
      ]
     },
     "execution_count": 41,
     "metadata": {},
     "output_type": "execute_result"
    }
   ],
   "source": [
    "df[df.population > 10][['country', 'square']]\n",
    "                "
   ]
  },
  {
   "cell_type": "code",
   "execution_count": 43,
   "metadata": {},
   "outputs": [
    {
     "data": {
      "text/html": [
       "<div>\n",
       "<style scoped>\n",
       "    .dataframe tbody tr th:only-of-type {\n",
       "        vertical-align: middle;\n",
       "    }\n",
       "\n",
       "    .dataframe tbody tr th {\n",
       "        vertical-align: top;\n",
       "    }\n",
       "\n",
       "    .dataframe thead th {\n",
       "        text-align: right;\n",
       "    }\n",
       "</style>\n",
       "<table border=\"1\" class=\"dataframe\">\n",
       "  <thead>\n",
       "    <tr style=\"text-align: right;\">\n",
       "      <th></th>\n",
       "      <th>country</th>\n",
       "      <th>population</th>\n",
       "      <th>square</th>\n",
       "      <th>density</th>\n",
       "    </tr>\n",
       "    <tr>\n",
       "      <th>Country Code</th>\n",
       "      <th></th>\n",
       "      <th></th>\n",
       "      <th></th>\n",
       "      <th></th>\n",
       "    </tr>\n",
       "  </thead>\n",
       "  <tbody>\n",
       "    <tr>\n",
       "      <th>Ld</th>\n",
       "      <td>London</td>\n",
       "      <td>17.9</td>\n",
       "      <td>3452</td>\n",
       "      <td>0.005185</td>\n",
       "    </tr>\n",
       "    <tr>\n",
       "      <th>Ber</th>\n",
       "      <td>Berlin</td>\n",
       "      <td>34.5</td>\n",
       "      <td>6745</td>\n",
       "      <td>0.005115</td>\n",
       "    </tr>\n",
       "    <tr>\n",
       "      <th>Ukr</th>\n",
       "      <td>Ukraine</td>\n",
       "      <td>22.4</td>\n",
       "      <td>3255</td>\n",
       "      <td>0.006882</td>\n",
       "    </tr>\n",
       "    <tr>\n",
       "      <th>Bel</th>\n",
       "      <td>Belarus</td>\n",
       "      <td>53.4</td>\n",
       "      <td>4698</td>\n",
       "      <td>0.011367</td>\n",
       "    </tr>\n",
       "  </tbody>\n",
       "</table>\n",
       "</div>"
      ],
      "text/plain": [
       "              country  population  square   density\n",
       "Country Code                                       \n",
       "Ld             London        17.9    3452  0.005185\n",
       "Ber            Berlin        34.5    6745  0.005115\n",
       "Ukr           Ukraine        22.4    3255  0.006882\n",
       "Bel           Belarus        53.4    4698  0.011367"
      ]
     },
     "execution_count": 43,
     "metadata": {},
     "output_type": "execute_result"
    }
   ],
   "source": [
    "df ['density']= df['population']/df['square']\n",
    "df"
   ]
  },
  {
   "cell_type": "code",
   "execution_count": 44,
   "metadata": {},
   "outputs": [
    {
     "data": {
      "text/html": [
       "<div>\n",
       "<style scoped>\n",
       "    .dataframe tbody tr th:only-of-type {\n",
       "        vertical-align: middle;\n",
       "    }\n",
       "\n",
       "    .dataframe tbody tr th {\n",
       "        vertical-align: top;\n",
       "    }\n",
       "\n",
       "    .dataframe thead th {\n",
       "        text-align: right;\n",
       "    }\n",
       "</style>\n",
       "<table border=\"1\" class=\"dataframe\">\n",
       "  <thead>\n",
       "    <tr style=\"text-align: right;\">\n",
       "      <th></th>\n",
       "      <th>country</th>\n",
       "      <th>population</th>\n",
       "      <th>square</th>\n",
       "      <th>density</th>\n",
       "    </tr>\n",
       "    <tr>\n",
       "      <th>Country Code</th>\n",
       "      <th></th>\n",
       "      <th></th>\n",
       "      <th></th>\n",
       "      <th></th>\n",
       "    </tr>\n",
       "  </thead>\n",
       "  <tbody>\n",
       "    <tr>\n",
       "      <th>Ld</th>\n",
       "      <td>London</td>\n",
       "      <td>17.9</td>\n",
       "      <td>3452</td>\n",
       "      <td>5185.399768</td>\n",
       "    </tr>\n",
       "    <tr>\n",
       "      <th>Ber</th>\n",
       "      <td>Berlin</td>\n",
       "      <td>34.5</td>\n",
       "      <td>6745</td>\n",
       "      <td>5114.899926</td>\n",
       "    </tr>\n",
       "    <tr>\n",
       "      <th>Ukr</th>\n",
       "      <td>Ukraine</td>\n",
       "      <td>22.4</td>\n",
       "      <td>3255</td>\n",
       "      <td>6881.720430</td>\n",
       "    </tr>\n",
       "    <tr>\n",
       "      <th>Bel</th>\n",
       "      <td>Belarus</td>\n",
       "      <td>53.4</td>\n",
       "      <td>4698</td>\n",
       "      <td>11366.538953</td>\n",
       "    </tr>\n",
       "  </tbody>\n",
       "</table>\n",
       "</div>"
      ],
      "text/plain": [
       "              country  population  square       density\n",
       "Country Code                                           \n",
       "Ld             London        17.9    3452   5185.399768\n",
       "Ber            Berlin        34.5    6745   5114.899926\n",
       "Ukr           Ukraine        22.4    3255   6881.720430\n",
       "Bel           Belarus        53.4    4698  11366.538953"
      ]
     },
     "execution_count": 44,
     "metadata": {},
     "output_type": "execute_result"
    }
   ],
   "source": [
    "df ['density']= df['population']/df['square']*1000000\n",
    "df"
   ]
  },
  {
   "cell_type": "code",
   "execution_count": 45,
   "metadata": {},
   "outputs": [
    {
     "data": {
      "text/html": [
       "<div>\n",
       "<style scoped>\n",
       "    .dataframe tbody tr th:only-of-type {\n",
       "        vertical-align: middle;\n",
       "    }\n",
       "\n",
       "    .dataframe tbody tr th {\n",
       "        vertical-align: top;\n",
       "    }\n",
       "\n",
       "    .dataframe thead th {\n",
       "        text-align: right;\n",
       "    }\n",
       "</style>\n",
       "<table border=\"1\" class=\"dataframe\">\n",
       "  <thead>\n",
       "    <tr style=\"text-align: right;\">\n",
       "      <th></th>\n",
       "      <th>country</th>\n",
       "      <th>population</th>\n",
       "      <th>square</th>\n",
       "    </tr>\n",
       "    <tr>\n",
       "      <th>Country Code</th>\n",
       "      <th></th>\n",
       "      <th></th>\n",
       "      <th></th>\n",
       "    </tr>\n",
       "  </thead>\n",
       "  <tbody>\n",
       "    <tr>\n",
       "      <th>Ld</th>\n",
       "      <td>London</td>\n",
       "      <td>17.9</td>\n",
       "      <td>3452</td>\n",
       "    </tr>\n",
       "    <tr>\n",
       "      <th>Ber</th>\n",
       "      <td>Berlin</td>\n",
       "      <td>34.5</td>\n",
       "      <td>6745</td>\n",
       "    </tr>\n",
       "    <tr>\n",
       "      <th>Ukr</th>\n",
       "      <td>Ukraine</td>\n",
       "      <td>22.4</td>\n",
       "      <td>3255</td>\n",
       "    </tr>\n",
       "    <tr>\n",
       "      <th>Bel</th>\n",
       "      <td>Belarus</td>\n",
       "      <td>53.4</td>\n",
       "      <td>4698</td>\n",
       "    </tr>\n",
       "  </tbody>\n",
       "</table>\n",
       "</div>"
      ],
      "text/plain": [
       "              country  population  square\n",
       "Country Code                             \n",
       "Ld             London        17.9    3452\n",
       "Ber            Berlin        34.5    6745\n",
       "Ukr           Ukraine        22.4    3255\n",
       "Bel           Belarus        53.4    4698"
      ]
     },
     "execution_count": 45,
     "metadata": {},
     "output_type": "execute_result"
    }
   ],
   "source": [
    "df.drop (['density'], axis = 'columns')"
   ]
  },
  {
   "cell_type": "code",
   "execution_count": 48,
   "metadata": {},
   "outputs": [
    {
     "data": {
      "text/html": [
       "<div>\n",
       "<style scoped>\n",
       "    .dataframe tbody tr th:only-of-type {\n",
       "        vertical-align: middle;\n",
       "    }\n",
       "\n",
       "    .dataframe tbody tr th {\n",
       "        vertical-align: top;\n",
       "    }\n",
       "\n",
       "    .dataframe thead th {\n",
       "        text-align: right;\n",
       "    }\n",
       "</style>\n",
       "<table border=\"1\" class=\"dataframe\">\n",
       "  <thead>\n",
       "    <tr style=\"text-align: right;\">\n",
       "      <th></th>\n",
       "      <th>country</th>\n",
       "      <th>population</th>\n",
       "      <th>square</th>\n",
       "      <th>density</th>\n",
       "    </tr>\n",
       "    <tr>\n",
       "      <th>Country Code</th>\n",
       "      <th></th>\n",
       "      <th></th>\n",
       "      <th></th>\n",
       "      <th></th>\n",
       "    </tr>\n",
       "  </thead>\n",
       "  <tbody>\n",
       "    <tr>\n",
       "      <th>Ld</th>\n",
       "      <td>London</td>\n",
       "      <td>17.9</td>\n",
       "      <td>3452</td>\n",
       "      <td>5185.399768</td>\n",
       "    </tr>\n",
       "    <tr>\n",
       "      <th>Ber</th>\n",
       "      <td>Berlin</td>\n",
       "      <td>34.5</td>\n",
       "      <td>6745</td>\n",
       "      <td>5114.899926</td>\n",
       "    </tr>\n",
       "    <tr>\n",
       "      <th>Ukr</th>\n",
       "      <td>Ukraine</td>\n",
       "      <td>22.4</td>\n",
       "      <td>3255</td>\n",
       "      <td>6881.720430</td>\n",
       "    </tr>\n",
       "    <tr>\n",
       "      <th>Bel</th>\n",
       "      <td>Belarus</td>\n",
       "      <td>53.4</td>\n",
       "      <td>4698</td>\n",
       "      <td>11366.538953</td>\n",
       "    </tr>\n",
       "  </tbody>\n",
       "</table>\n",
       "</div>"
      ],
      "text/plain": [
       "              country  population  square       density\n",
       "Country Code                                           \n",
       "Ld             London        17.9    3452   5185.399768\n",
       "Ber            Berlin        34.5    6745   5114.899926\n",
       "Ukr           Ukraine        22.4    3255   6881.720430\n",
       "Bel           Belarus        53.4    4698  11366.538953"
      ]
     },
     "execution_count": 48,
     "metadata": {},
     "output_type": "execute_result"
    }
   ],
   "source": [
    "df = df.rename (columns = {'Country Code':'country_code'})\n",
    "df\n"
   ]
  },
  {
   "cell_type": "code",
   "execution_count": 49,
   "metadata": {},
   "outputs": [
    {
     "data": {
      "text/html": [
       "<div>\n",
       "<style scoped>\n",
       "    .dataframe tbody tr th:only-of-type {\n",
       "        vertical-align: middle;\n",
       "    }\n",
       "\n",
       "    .dataframe tbody tr th {\n",
       "        vertical-align: top;\n",
       "    }\n",
       "\n",
       "    .dataframe thead th {\n",
       "        text-align: right;\n",
       "    }\n",
       "</style>\n",
       "<table border=\"1\" class=\"dataframe\">\n",
       "  <thead>\n",
       "    <tr style=\"text-align: right;\">\n",
       "      <th></th>\n",
       "      <th>Country Code</th>\n",
       "      <th>country</th>\n",
       "      <th>population</th>\n",
       "      <th>square</th>\n",
       "      <th>density</th>\n",
       "    </tr>\n",
       "  </thead>\n",
       "  <tbody>\n",
       "    <tr>\n",
       "      <th>0</th>\n",
       "      <td>Ld</td>\n",
       "      <td>London</td>\n",
       "      <td>17.9</td>\n",
       "      <td>3452</td>\n",
       "      <td>5185.399768</td>\n",
       "    </tr>\n",
       "    <tr>\n",
       "      <th>1</th>\n",
       "      <td>Ber</td>\n",
       "      <td>Berlin</td>\n",
       "      <td>34.5</td>\n",
       "      <td>6745</td>\n",
       "      <td>5114.899926</td>\n",
       "    </tr>\n",
       "    <tr>\n",
       "      <th>2</th>\n",
       "      <td>Ukr</td>\n",
       "      <td>Ukraine</td>\n",
       "      <td>22.4</td>\n",
       "      <td>3255</td>\n",
       "      <td>6881.720430</td>\n",
       "    </tr>\n",
       "    <tr>\n",
       "      <th>3</th>\n",
       "      <td>Bel</td>\n",
       "      <td>Belarus</td>\n",
       "      <td>53.4</td>\n",
       "      <td>4698</td>\n",
       "      <td>11366.538953</td>\n",
       "    </tr>\n",
       "  </tbody>\n",
       "</table>\n",
       "</div>"
      ],
      "text/plain": [
       "  Country Code  country  population  square       density\n",
       "0           Ld   London        17.9    3452   5185.399768\n",
       "1          Ber   Berlin        34.5    6745   5114.899926\n",
       "2          Ukr  Ukraine        22.4    3255   6881.720430\n",
       "3          Bel  Belarus        53.4    4698  11366.538953"
      ]
     },
     "execution_count": 49,
     "metadata": {},
     "output_type": "execute_result"
    }
   ],
   "source": [
    "df. reset_index()"
   ]
  },
  {
   "cell_type": "code",
   "execution_count": 51,
   "metadata": {},
   "outputs": [
    {
     "data": {
      "text/html": [
       "<div>\n",
       "<style scoped>\n",
       "    .dataframe tbody tr th:only-of-type {\n",
       "        vertical-align: middle;\n",
       "    }\n",
       "\n",
       "    .dataframe tbody tr th {\n",
       "        vertical-align: top;\n",
       "    }\n",
       "\n",
       "    .dataframe thead th {\n",
       "        text-align: right;\n",
       "    }\n",
       "</style>\n",
       "<table border=\"1\" class=\"dataframe\">\n",
       "  <thead>\n",
       "    <tr style=\"text-align: right;\">\n",
       "      <th></th>\n",
       "      <th>country</th>\n",
       "      <th>population</th>\n",
       "      <th>square</th>\n",
       "      <th>density</th>\n",
       "    </tr>\n",
       "    <tr>\n",
       "      <th>Country Code</th>\n",
       "      <th></th>\n",
       "      <th></th>\n",
       "      <th></th>\n",
       "      <th></th>\n",
       "    </tr>\n",
       "  </thead>\n",
       "  <tbody>\n",
       "    <tr>\n",
       "      <th>Ld</th>\n",
       "      <td>London</td>\n",
       "      <td>17.9</td>\n",
       "      <td>3452</td>\n",
       "      <td>5185.399768</td>\n",
       "    </tr>\n",
       "    <tr>\n",
       "      <th>Ber</th>\n",
       "      <td>Berlin</td>\n",
       "      <td>34.5</td>\n",
       "      <td>6745</td>\n",
       "      <td>5114.899926</td>\n",
       "    </tr>\n",
       "    <tr>\n",
       "      <th>Ukr</th>\n",
       "      <td>Ukraine</td>\n",
       "      <td>22.4</td>\n",
       "      <td>3255</td>\n",
       "      <td>6881.720430</td>\n",
       "    </tr>\n",
       "    <tr>\n",
       "      <th>Bel</th>\n",
       "      <td>Belarus</td>\n",
       "      <td>53.4</td>\n",
       "      <td>4698</td>\n",
       "      <td>11366.538953</td>\n",
       "    </tr>\n",
       "  </tbody>\n",
       "</table>\n",
       "</div>"
      ],
      "text/plain": [
       "              country  population  square       density\n",
       "Country Code                                           \n",
       "Ld             London        17.9    3452   5185.399768\n",
       "Ber            Berlin        34.5    6745   5114.899926\n",
       "Ukr           Ukraine        22.4    3255   6881.720430\n",
       "Bel           Belarus        53.4    4698  11366.538953"
      ]
     },
     "execution_count": 51,
     "metadata": {},
     "output_type": "execute_result"
    }
   ],
   "source": [
    "df=df.rename(columns={'Country Code':'country_code'})\n",
    "df"
   ]
  },
  {
   "cell_type": "code",
   "execution_count": 52,
   "metadata": {},
   "outputs": [
    {
     "data": {
      "text/html": [
       "<div>\n",
       "<style scoped>\n",
       "    .dataframe tbody tr th:only-of-type {\n",
       "        vertical-align: middle;\n",
       "    }\n",
       "\n",
       "    .dataframe tbody tr th {\n",
       "        vertical-align: top;\n",
       "    }\n",
       "\n",
       "    .dataframe thead th {\n",
       "        text-align: right;\n",
       "    }\n",
       "</style>\n",
       "<table border=\"1\" class=\"dataframe\">\n",
       "  <thead>\n",
       "    <tr style=\"text-align: right;\">\n",
       "      <th></th>\n",
       "      <th>country</th>\n",
       "      <th>population</th>\n",
       "      <th>square</th>\n",
       "      <th>density</th>\n",
       "    </tr>\n",
       "    <tr>\n",
       "      <th>Country Code</th>\n",
       "      <th></th>\n",
       "      <th></th>\n",
       "      <th></th>\n",
       "      <th></th>\n",
       "    </tr>\n",
       "  </thead>\n",
       "  <tbody>\n",
       "    <tr>\n",
       "      <th>Ld</th>\n",
       "      <td>London</td>\n",
       "      <td>17.9</td>\n",
       "      <td>3452</td>\n",
       "      <td>5185.399768</td>\n",
       "    </tr>\n",
       "    <tr>\n",
       "      <th>Ber</th>\n",
       "      <td>Berlin</td>\n",
       "      <td>34.5</td>\n",
       "      <td>6745</td>\n",
       "      <td>5114.899926</td>\n",
       "    </tr>\n",
       "    <tr>\n",
       "      <th>Ukr</th>\n",
       "      <td>Ukraine</td>\n",
       "      <td>22.4</td>\n",
       "      <td>3255</td>\n",
       "      <td>6881.720430</td>\n",
       "    </tr>\n",
       "    <tr>\n",
       "      <th>Bel</th>\n",
       "      <td>Belarus</td>\n",
       "      <td>53.4</td>\n",
       "      <td>4698</td>\n",
       "      <td>11366.538953</td>\n",
       "    </tr>\n",
       "  </tbody>\n",
       "</table>\n",
       "</div>"
      ],
      "text/plain": [
       "              country  population  square       density\n",
       "Country Code                                           \n",
       "Ld             London        17.9    3452   5185.399768\n",
       "Ber            Berlin        34.5    6745   5114.899926\n",
       "Ukr           Ukraine        22.4    3255   6881.720430\n",
       "Bel           Belarus        53.4    4698  11366.538953"
      ]
     },
     "execution_count": 52,
     "metadata": {},
     "output_type": "execute_result"
    }
   ],
   "source": [
    "df = df.rename(columns={'Country Code': 'country_code'})\n",
    "df"
   ]
  },
  {
   "cell_type": "code",
   "execution_count": 53,
   "metadata": {},
   "outputs": [
    {
     "data": {
      "text/html": [
       "<div>\n",
       "<style scoped>\n",
       "    .dataframe tbody tr th:only-of-type {\n",
       "        vertical-align: middle;\n",
       "    }\n",
       "\n",
       "    .dataframe tbody tr th {\n",
       "        vertical-align: top;\n",
       "    }\n",
       "\n",
       "    .dataframe thead th {\n",
       "        text-align: right;\n",
       "    }\n",
       "</style>\n",
       "<table border=\"1\" class=\"dataframe\">\n",
       "  <thead>\n",
       "    <tr style=\"text-align: right;\">\n",
       "      <th></th>\n",
       "      <th>Country Code</th>\n",
       "      <th>country</th>\n",
       "      <th>population</th>\n",
       "      <th>square</th>\n",
       "      <th>density</th>\n",
       "    </tr>\n",
       "  </thead>\n",
       "  <tbody>\n",
       "    <tr>\n",
       "      <th>0</th>\n",
       "      <td>Ld</td>\n",
       "      <td>London</td>\n",
       "      <td>17.9</td>\n",
       "      <td>3452</td>\n",
       "      <td>5185.399768</td>\n",
       "    </tr>\n",
       "    <tr>\n",
       "      <th>1</th>\n",
       "      <td>Ber</td>\n",
       "      <td>Berlin</td>\n",
       "      <td>34.5</td>\n",
       "      <td>6745</td>\n",
       "      <td>5114.899926</td>\n",
       "    </tr>\n",
       "    <tr>\n",
       "      <th>2</th>\n",
       "      <td>Ukr</td>\n",
       "      <td>Ukraine</td>\n",
       "      <td>22.4</td>\n",
       "      <td>3255</td>\n",
       "      <td>6881.720430</td>\n",
       "    </tr>\n",
       "    <tr>\n",
       "      <th>3</th>\n",
       "      <td>Bel</td>\n",
       "      <td>Belarus</td>\n",
       "      <td>53.4</td>\n",
       "      <td>4698</td>\n",
       "      <td>11366.538953</td>\n",
       "    </tr>\n",
       "  </tbody>\n",
       "</table>\n",
       "</div>"
      ],
      "text/plain": [
       "  Country Code  country  population  square       density\n",
       "0           Ld   London        17.9    3452   5185.399768\n",
       "1          Ber   Berlin        34.5    6745   5114.899926\n",
       "2          Ukr  Ukraine        22.4    3255   6881.720430\n",
       "3          Bel  Belarus        53.4    4698  11366.538953"
      ]
     },
     "execution_count": 53,
     "metadata": {},
     "output_type": "execute_result"
    }
   ],
   "source": [
    "df. reset_index()\n"
   ]
  },
  {
   "cell_type": "code",
   "execution_count": 54,
   "metadata": {},
   "outputs": [
    {
     "data": {
      "text/html": [
       "<div>\n",
       "<style scoped>\n",
       "    .dataframe tbody tr th:only-of-type {\n",
       "        vertical-align: middle;\n",
       "    }\n",
       "\n",
       "    .dataframe tbody tr th {\n",
       "        vertical-align: top;\n",
       "    }\n",
       "\n",
       "    .dataframe thead th {\n",
       "        text-align: right;\n",
       "    }\n",
       "</style>\n",
       "<table border=\"1\" class=\"dataframe\">\n",
       "  <thead>\n",
       "    <tr style=\"text-align: right;\">\n",
       "      <th></th>\n",
       "      <th>country</th>\n",
       "      <th>population</th>\n",
       "      <th>square</th>\n",
       "      <th>density</th>\n",
       "    </tr>\n",
       "    <tr>\n",
       "      <th>Country Code</th>\n",
       "      <th></th>\n",
       "      <th></th>\n",
       "      <th></th>\n",
       "      <th></th>\n",
       "    </tr>\n",
       "  </thead>\n",
       "  <tbody>\n",
       "    <tr>\n",
       "      <th>Ld</th>\n",
       "      <td>London</td>\n",
       "      <td>17.9</td>\n",
       "      <td>3452</td>\n",
       "      <td>5185.399768</td>\n",
       "    </tr>\n",
       "    <tr>\n",
       "      <th>Ber</th>\n",
       "      <td>Berlin</td>\n",
       "      <td>34.5</td>\n",
       "      <td>6745</td>\n",
       "      <td>5114.899926</td>\n",
       "    </tr>\n",
       "    <tr>\n",
       "      <th>Ukr</th>\n",
       "      <td>Ukraine</td>\n",
       "      <td>22.4</td>\n",
       "      <td>3255</td>\n",
       "      <td>6881.720430</td>\n",
       "    </tr>\n",
       "    <tr>\n",
       "      <th>Bel</th>\n",
       "      <td>Belarus</td>\n",
       "      <td>53.4</td>\n",
       "      <td>4698</td>\n",
       "      <td>11366.538953</td>\n",
       "    </tr>\n",
       "  </tbody>\n",
       "</table>\n",
       "</div>"
      ],
      "text/plain": [
       "              country  population  square       density\n",
       "Country Code                                           \n",
       "Ld             London        17.9    3452   5185.399768\n",
       "Ber            Berlin        34.5    6745   5114.899926\n",
       "Ukr           Ukraine        22.4    3255   6881.720430\n",
       "Bel           Belarus        53.4    4698  11366.538953"
      ]
     },
     "execution_count": 54,
     "metadata": {},
     "output_type": "execute_result"
    }
   ],
   "source": [
    "df = df.rename(columns={'Country Code': 'country_code'})\n",
    "df"
   ]
  },
  {
   "cell_type": "code",
   "execution_count": 56,
   "metadata": {},
   "outputs": [
    {
     "data": {
      "text/html": [
       "<div>\n",
       "<style scoped>\n",
       "    .dataframe tbody tr th:only-of-type {\n",
       "        vertical-align: middle;\n",
       "    }\n",
       "\n",
       "    .dataframe tbody tr th {\n",
       "        vertical-align: top;\n",
       "    }\n",
       "\n",
       "    .dataframe thead th {\n",
       "        text-align: right;\n",
       "    }\n",
       "</style>\n",
       "<table border=\"1\" class=\"dataframe\">\n",
       "  <thead>\n",
       "    <tr style=\"text-align: right;\">\n",
       "      <th></th>\n",
       "      <th>country</th>\n",
       "      <th>population</th>\n",
       "      <th>square</th>\n",
       "      <th>density</th>\n",
       "    </tr>\n",
       "    <tr>\n",
       "      <th>Country Code</th>\n",
       "      <th></th>\n",
       "      <th></th>\n",
       "      <th></th>\n",
       "      <th></th>\n",
       "    </tr>\n",
       "  </thead>\n",
       "  <tbody>\n",
       "    <tr>\n",
       "      <th>Ld</th>\n",
       "      <td>London</td>\n",
       "      <td>17.9</td>\n",
       "      <td>3452</td>\n",
       "      <td>5185.399768</td>\n",
       "    </tr>\n",
       "    <tr>\n",
       "      <th>Ber</th>\n",
       "      <td>Berlin</td>\n",
       "      <td>34.5</td>\n",
       "      <td>6745</td>\n",
       "      <td>5114.899926</td>\n",
       "    </tr>\n",
       "    <tr>\n",
       "      <th>Ukr</th>\n",
       "      <td>Ukraine</td>\n",
       "      <td>22.4</td>\n",
       "      <td>3255</td>\n",
       "      <td>6881.720430</td>\n",
       "    </tr>\n",
       "    <tr>\n",
       "      <th>Bel</th>\n",
       "      <td>Belarus</td>\n",
       "      <td>53.4</td>\n",
       "      <td>4698</td>\n",
       "      <td>11366.538953</td>\n",
       "    </tr>\n",
       "  </tbody>\n",
       "</table>\n",
       "</div>"
      ],
      "text/plain": [
       "              country  population  square       density\n",
       "Country Code                                           \n",
       "Ld             London        17.9    3452   5185.399768\n",
       "Ber            Berlin        34.5    6745   5114.899926\n",
       "Ukr           Ukraine        22.4    3255   6881.720430\n",
       "Bel           Belarus        53.4    4698  11366.538953"
      ]
     },
     "execution_count": 56,
     "metadata": {},
     "output_type": "execute_result"
    }
   ],
   "source": [
    "df.to_csv('Country.csv')\n",
    "df"
   ]
  },
  {
   "cell_type": "code",
   "execution_count": 71,
   "metadata": {},
   "outputs": [
    {
     "name": "stdout",
     "output_type": "stream",
     "text": [
      "   PassengerID                                           Name PClass    Age  \\\n",
      "0            1                   Allen, Miss Elisabeth Walton    1st  29.00   \n",
      "1            2                    Allison, Miss Helen Loraine    1st   2.00   \n",
      "2            3            Allison, Mr Hudson Joshua Creighton    1st  30.00   \n",
      "3            4  Allison, Mrs Hudson JC (Bessie Waldo Daniels)    1st  25.00   \n",
      "4            5                  Allison, Master Hudson Trevor    1st   0.92   \n",
      "\n",
      "      Sex  Survived  SexCode  \n",
      "0  female         1        1  \n",
      "1  female         0        1  \n",
      "2    male         0        0  \n",
      "3  female         0        1  \n",
      "4    male         1        0  \n",
      "Sex     Survived\n",
      "female  0           154\n",
      "        1           308\n",
      "male    0           709\n",
      "        1           142\n",
      "Name: PassengerID, dtype: int64\n"
     ]
    }
   ],
   "source": [
    "titanic_df=pd.read_csv('titanic.csv')\n",
    "print(titanic_df.head())\n"
   ]
  },
  {
   "cell_type": "code",
   "execution_count": 65,
   "metadata": {},
   "outputs": [
    {
     "data": {
      "text/html": [
       "<div>\n",
       "<style scoped>\n",
       "    .dataframe tbody tr th:only-of-type {\n",
       "        vertical-align: middle;\n",
       "    }\n",
       "\n",
       "    .dataframe tbody tr th {\n",
       "        vertical-align: top;\n",
       "    }\n",
       "\n",
       "    .dataframe thead th {\n",
       "        text-align: right;\n",
       "    }\n",
       "</style>\n",
       "<table border=\"1\" class=\"dataframe\">\n",
       "  <thead>\n",
       "    <tr style=\"text-align: right;\">\n",
       "      <th></th>\n",
       "      <th>PassengerID</th>\n",
       "      <th>Name</th>\n",
       "      <th>PClass</th>\n",
       "      <th>Age</th>\n",
       "      <th>Sex</th>\n",
       "      <th>Survived</th>\n",
       "      <th>SexCode</th>\n",
       "    </tr>\n",
       "  </thead>\n",
       "  <tbody>\n",
       "    <tr>\n",
       "      <th>0</th>\n",
       "      <td>1</td>\n",
       "      <td>Allen, Miss Elisabeth Walton</td>\n",
       "      <td>1st</td>\n",
       "      <td>29.00</td>\n",
       "      <td>female</td>\n",
       "      <td>1</td>\n",
       "      <td>1</td>\n",
       "    </tr>\n",
       "    <tr>\n",
       "      <th>1</th>\n",
       "      <td>2</td>\n",
       "      <td>Allison, Miss Helen Loraine</td>\n",
       "      <td>1st</td>\n",
       "      <td>2.00</td>\n",
       "      <td>female</td>\n",
       "      <td>0</td>\n",
       "      <td>1</td>\n",
       "    </tr>\n",
       "    <tr>\n",
       "      <th>2</th>\n",
       "      <td>3</td>\n",
       "      <td>Allison, Mr Hudson Joshua Creighton</td>\n",
       "      <td>1st</td>\n",
       "      <td>30.00</td>\n",
       "      <td>male</td>\n",
       "      <td>0</td>\n",
       "      <td>0</td>\n",
       "    </tr>\n",
       "    <tr>\n",
       "      <th>3</th>\n",
       "      <td>4</td>\n",
       "      <td>Allison, Mrs Hudson JC (Bessie Waldo Daniels)</td>\n",
       "      <td>1st</td>\n",
       "      <td>25.00</td>\n",
       "      <td>female</td>\n",
       "      <td>0</td>\n",
       "      <td>1</td>\n",
       "    </tr>\n",
       "    <tr>\n",
       "      <th>4</th>\n",
       "      <td>5</td>\n",
       "      <td>Allison, Master Hudson Trevor</td>\n",
       "      <td>1st</td>\n",
       "      <td>0.92</td>\n",
       "      <td>male</td>\n",
       "      <td>1</td>\n",
       "      <td>0</td>\n",
       "    </tr>\n",
       "    <tr>\n",
       "      <th>...</th>\n",
       "      <td>...</td>\n",
       "      <td>...</td>\n",
       "      <td>...</td>\n",
       "      <td>...</td>\n",
       "      <td>...</td>\n",
       "      <td>...</td>\n",
       "      <td>...</td>\n",
       "    </tr>\n",
       "    <tr>\n",
       "      <th>1308</th>\n",
       "      <td>1309</td>\n",
       "      <td>Zakarian, Mr Artun</td>\n",
       "      <td>3rd</td>\n",
       "      <td>27.00</td>\n",
       "      <td>male</td>\n",
       "      <td>0</td>\n",
       "      <td>0</td>\n",
       "    </tr>\n",
       "    <tr>\n",
       "      <th>1309</th>\n",
       "      <td>1310</td>\n",
       "      <td>Zakarian, Mr Maprieder</td>\n",
       "      <td>3rd</td>\n",
       "      <td>26.00</td>\n",
       "      <td>male</td>\n",
       "      <td>0</td>\n",
       "      <td>0</td>\n",
       "    </tr>\n",
       "    <tr>\n",
       "      <th>1310</th>\n",
       "      <td>1311</td>\n",
       "      <td>Zenni, Mr Philip</td>\n",
       "      <td>3rd</td>\n",
       "      <td>22.00</td>\n",
       "      <td>male</td>\n",
       "      <td>0</td>\n",
       "      <td>0</td>\n",
       "    </tr>\n",
       "    <tr>\n",
       "      <th>1311</th>\n",
       "      <td>1312</td>\n",
       "      <td>Lievens, Mr Rene</td>\n",
       "      <td>3rd</td>\n",
       "      <td>24.00</td>\n",
       "      <td>male</td>\n",
       "      <td>0</td>\n",
       "      <td>0</td>\n",
       "    </tr>\n",
       "    <tr>\n",
       "      <th>1312</th>\n",
       "      <td>1313</td>\n",
       "      <td>Zimmerman, Leo</td>\n",
       "      <td>3rd</td>\n",
       "      <td>29.00</td>\n",
       "      <td>male</td>\n",
       "      <td>0</td>\n",
       "      <td>0</td>\n",
       "    </tr>\n",
       "  </tbody>\n",
       "</table>\n",
       "<p>1313 rows × 7 columns</p>\n",
       "</div>"
      ],
      "text/plain": [
       "      PassengerID                                           Name PClass  \\\n",
       "0               1                   Allen, Miss Elisabeth Walton    1st   \n",
       "1               2                    Allison, Miss Helen Loraine    1st   \n",
       "2               3            Allison, Mr Hudson Joshua Creighton    1st   \n",
       "3               4  Allison, Mrs Hudson JC (Bessie Waldo Daniels)    1st   \n",
       "4               5                  Allison, Master Hudson Trevor    1st   \n",
       "...           ...                                            ...    ...   \n",
       "1308         1309                             Zakarian, Mr Artun    3rd   \n",
       "1309         1310                         Zakarian, Mr Maprieder    3rd   \n",
       "1310         1311                               Zenni, Mr Philip    3rd   \n",
       "1311         1312                               Lievens, Mr Rene    3rd   \n",
       "1312         1313                                 Zimmerman, Leo    3rd   \n",
       "\n",
       "        Age     Sex  Survived  SexCode  \n",
       "0     29.00  female         1        1  \n",
       "1      2.00  female         0        1  \n",
       "2     30.00    male         0        0  \n",
       "3     25.00  female         0        1  \n",
       "4      0.92    male         1        0  \n",
       "...     ...     ...       ...      ...  \n",
       "1308  27.00    male         0        0  \n",
       "1309  26.00    male         0        0  \n",
       "1310  22.00    male         0        0  \n",
       "1311  24.00    male         0        0  \n",
       "1312  29.00    male         0        0  \n",
       "\n",
       "[1313 rows x 7 columns]"
      ]
     },
     "execution_count": 65,
     "metadata": {},
     "output_type": "execute_result"
    }
   ],
   "source": [
    "pd.read_csv('titanic.csv', delimiter=',')\n"
   ]
  },
  {
   "cell_type": "code",
   "execution_count": 66,
   "metadata": {},
   "outputs": [
    {
     "name": "stdout",
     "output_type": "stream",
     "text": [
      "   Season  Episode      AirDate                                  Title  \\\n",
      "0       1        1   8 May 2011                       Winter Is Coming   \n",
      "1       1        2  15 May 2011                          The Kingsroad   \n",
      "2       1        3   1 May 2011                              Lord Snow   \n",
      "3       1        4   8 May 2011  Cripples, Bastards, and Broken Things   \n",
      "4       1        5  15 May 2011                  The Wolf and the Lion   \n",
      "\n",
      "   Rating  Counts                                               Desc  \n",
      "0     9.1   41772  Eddard Stark is torn between his family and an...  \n",
      "1     8.8   31572  While Bran recovers from his fall, Ned takes o...  \n",
      "2     8.7   29861  Jon begins his training with the Night's Watch...  \n",
      "3     8.8   28345  Eddard investigates Jon Arryn's murder. Jon be...  \n",
      "4     9.1   29503  Catelyn has captured Tyrion and plans to bring...  \n"
     ]
    }
   ],
   "source": [
    "got_df=pd.read_csv('got.csv')\n",
    "print(got_df.head())\n",
    "print (df.groupby('id').agg('max'))"
   ]
  },
  {
   "cell_type": "code",
   "execution_count": 78,
   "metadata": {},
   "outputs": [
    {
     "name": "stdout",
     "output_type": "stream",
     "text": [
      "Season  Episode\n",
      "1       1          1\n",
      "        2          1\n",
      "        3          1\n",
      "        4          1\n",
      "        5          1\n",
      "                  ..\n",
      "8       2          1\n",
      "        3          1\n",
      "        4          1\n",
      "        5          1\n",
      "        6          1\n",
      "Name: Rating, Length: 73, dtype: int64\n"
     ]
    }
   ],
   "source": [
    "pd.read_csv('got.csv', delimiter=',')\n",
    "print(got_df.groupby(['Season', 'Episode'])['Rating'].count())"
   ]
  },
  {
   "cell_type": "code",
   "execution_count": 72,
   "metadata": {},
   "outputs": [
    {
     "name": "stdout",
     "output_type": "stream",
     "text": [
      "Sex     Survived\n",
      "female  0           154\n",
      "        1           308\n",
      "male    0           709\n",
      "        1           142\n",
      "Name: PassengerID, dtype: int64\n"
     ]
    }
   ],
   "source": [
    "print(titanic_df.groupby(['Sex', 'Survived'])['PassengerID'].count())"
   ]
  },
  {
   "cell_type": "code",
   "execution_count": 1,
   "metadata": {},
   "outputs": [
    {
     "ename": "NameError",
     "evalue": "name 'titanic_df' is not defined",
     "output_type": "error",
     "traceback": [
      "\u001b[0;31m---------------------------------------------------------------------------\u001b[0m",
      "\u001b[0;31mNameError\u001b[0m                                 Traceback (most recent call last)",
      "\u001b[0;32m<ipython-input-1-56afd9992e6d>\u001b[0m in \u001b[0;36m<module>\u001b[0;34m\u001b[0m\n\u001b[0;32m----> 1\u001b[0;31m \u001b[0mprint\u001b[0m \u001b[0;34m(\u001b[0m\u001b[0mtitanic_df\u001b[0m\u001b[0;34m.\u001b[0m\u001b[0mgroupby\u001b[0m \u001b[0;34m(\u001b[0m\u001b[0;34m[\u001b[0m\u001b[0;34m'PClass'\u001b[0m\u001b[0;34m,\u001b[0m \u001b[0;34m'Survived'\u001b[0m\u001b[0;34m]\u001b[0m\u001b[0;34m)\u001b[0m \u001b[0;34m[\u001b[0m\u001b[0;34m'PassengerID'\u001b[0m\u001b[0;34m]\u001b[0m\u001b[0;34m.\u001b[0m \u001b[0mcount\u001b[0m\u001b[0;34m(\u001b[0m\u001b[0;34m)\u001b[0m\u001b[0;34m)\u001b[0m\u001b[0;34m\u001b[0m\u001b[0;34m\u001b[0m\u001b[0m\n\u001b[0m\u001b[1;32m      2\u001b[0m \u001b[0mprint\u001b[0m \u001b[0;34m(\u001b[0m\u001b[0mtitanic_df\u001b[0m\u001b[0;34m.\u001b[0m\u001b[0mgroupby\u001b[0m\u001b[0;34m(\u001b[0m\u001b[0;34m'PClass'\u001b[0m\u001b[0;34m)\u001b[0m\u001b[0;34m.\u001b[0m\u001b[0magg\u001b[0m\u001b[0;34m(\u001b[0m\u001b[0;34m'max'\u001b[0m\u001b[0;34m)\u001b[0m\u001b[0;34m)\u001b[0m\u001b[0;34m\u001b[0m\u001b[0;34m\u001b[0m\u001b[0m\n",
      "\u001b[0;31mNameError\u001b[0m: name 'titanic_df' is not defined"
     ]
    }
   ],
   "source": [
    "print (titanic_df.groupby (['PClass', 'Survived']) ['PassengerID']. count())\n",
    "print (titanic_df.groupby('PClass').agg('max'))"
   ]
  },
  {
   "cell_type": "code",
   "execution_count": 84,
   "metadata": {},
   "outputs": [
    {
     "name": "stdout",
     "output_type": "stream",
     "text": [
      "PClass\n",
      "1st    143.0\n",
      "2nd    107.0\n",
      "3rd    212.0\n",
      "Name: female, dtype: float64\n"
     ]
    }
   ],
   "source": [
    "titanic_df = pd.read_csv('titanic.csv')\n",
    "pvt = titanic_df.pivot_table(index=['Sex'], columns=['PClass'], values='Name', aggfunc='count')\n",
    "print(pvt.loc['female', ['1st', '2nd', '3rd']])"
   ]
  },
  {
   "cell_type": "code",
   "execution_count": 85,
   "metadata": {},
   "outputs": [
    {
     "name": "stdout",
     "output_type": "stream",
     "text": [
      "PClass\n",
      "1st    143.0\n",
      "2nd    107.0\n",
      "3rd    212.0\n",
      "Name: female, dtype: float64\n"
     ]
    }
   ],
   "source": [
    "titanic_df=pd.read_csv('titanic.csv')\n",
    "pvt=titanic_df.pivot_table(index=['Sex'], columns=['PClass'], values='Name', aggfunc='count')\n",
    "print(pvt.loc['female', ['1st', '2nd', '3rd']])\n",
    "              "
   ]
  },
  {
   "cell_type": "code",
   "execution_count": 89,
   "metadata": {},
   "outputs": [
    {
     "name": "stdout",
     "output_type": "stream",
     "text": [
      "<class 'pandas.core.frame.DataFrame'>\n",
      "RangeIndex: 1258 entries, 0 to 1257\n",
      "Data columns (total 7 columns):\n",
      " #   Column     Non-Null Count  Dtype  \n",
      "---  ------     --------------  -----  \n",
      " 0   Date       1258 non-null   object \n",
      " 1   Open       1258 non-null   float64\n",
      " 2   High       1258 non-null   float64\n",
      " 3   Low        1258 non-null   float64\n",
      " 4   Close      1258 non-null   float64\n",
      " 5   Volume     1258 non-null   int64  \n",
      " 6   Adj Close  1258 non-null   float64\n",
      "dtypes: float64(5), int64(1), object(1)\n",
      "memory usage: 68.9+ KB\n",
      "None\n"
     ]
    }
   ],
   "source": [
    "df=pd.read_csv('apple.csv', delimiter=',')\n",
    "df=df.sort_index()\n",
    "print (df.info())"
   ]
  },
  {
   "cell_type": "code",
   "execution_count": 88,
   "metadata": {},
   "outputs": [
    {
     "name": "stdout",
     "output_type": "stream",
     "text": [
      "<class 'pandas.core.frame.DataFrame'>\n",
      "DatetimeIndex: 1258 entries, 2012-02-23 to 2017-02-22\n",
      "Data columns (total 6 columns):\n",
      " #   Column     Non-Null Count  Dtype  \n",
      "---  ------     --------------  -----  \n",
      " 0   Open       1258 non-null   float64\n",
      " 1   High       1258 non-null   float64\n",
      " 2   Low        1258 non-null   float64\n",
      " 3   Close      1258 non-null   float64\n",
      " 4   Volume     1258 non-null   int64  \n",
      " 5   Adj Close  1258 non-null   float64\n",
      "dtypes: float64(5), int64(1)\n",
      "memory usage: 68.8 KB\n",
      "None\n"
     ]
    }
   ],
   "source": [
    "df = pd.read_csv('apple.csv', index_col='Date', parse_dates=True)\n",
    "df = df.sort_index()\n",
    "print(df.info())"
   ]
  },
  {
   "cell_type": "code",
   "execution_count": 106,
   "metadata": {},
   "outputs": [
    {
     "name": "stdout",
     "output_type": "stream",
     "text": [
      "<class 'pandas.core.frame.DataFrame'>\n",
      "DatetimeIndex: 1258 entries, 2012-02-23 to 2017-02-22\n",
      "Data columns (total 6 columns):\n",
      " #   Column     Non-Null Count  Dtype  \n",
      "---  ------     --------------  -----  \n",
      " 0   Open       1258 non-null   float64\n",
      " 1   High       1258 non-null   float64\n",
      " 2   Low        1258 non-null   float64\n",
      " 3   Close      1258 non-null   float64\n",
      " 4   Volume     1258 non-null   int64  \n",
      " 5   Adj Close  1258 non-null   float64\n",
      "dtypes: float64(5), int64(1)\n",
      "memory usage: 68.8 KB\n",
      "None\n"
     ]
    }
   ],
   "source": [
    "import pandas as pd\n",
    "df = pd.read_csv('apple.csv', index_col='Date', parse_dates=True)\n",
    "df = df.sort_index()\n",
    "print(df.info())\n"
   ]
  },
  {
   "cell_type": "code",
   "execution_count": 107,
   "metadata": {},
   "outputs": [
    {
     "data": {
      "image/png": "[encoded data removed]",
      "text/plain": [
       "<Figure size 432x288 with 1 Axes>"
      ]
     },
     "metadata": {
      "needs_background": "light"
     },
     "output_type": "display_data"
    }
   ],
   "source": [
    "import matplotlib.pyplot as plt\n",
    "new_sample_df = df.loc['2012-Feb':'2017-Feb', ['Close']]\n",
    "new_sample_df.plot()\n",
    "plt.show()"
   ]
  },
  {
   "cell_type": "code",
   "execution_count": 2,
   "metadata": {},
   "outputs": [
    {
     "name": "stdout",
     "output_type": "stream",
     "text": [
      "[4 6 8]\n"
     ]
    }
   ],
   "source": [
    "import numpy as np\n",
    "a=np.array ([1, 2, 3])\n",
    "b=np.array ([3, 4, 5])\n",
    "print (a+b)"
   ]
  },
  {
   "cell_type": "code",
   "execution_count": 3,
   "metadata": {},
   "outputs": [
    {
     "data": {
      "text/plain": [
       "162"
      ]
     },
     "execution_count": 3,
     "metadata": {},
     "output_type": "execute_result"
    }
   ],
   "source": [
    "a=np.array ([43, 53, 66])\n",
    "a.sum()"
   ]
  },
  {
   "cell_type": "code",
   "execution_count": 4,
   "metadata": {},
   "outputs": [
    {
     "data": {
      "text/plain": [
       "54"
      ]
     },
     "execution_count": 4,
     "metadata": {},
     "output_type": "execute_result"
    }
   ],
   "source": [
    "data=np.array([54, 66, 22])\n",
    "data[0]"
   ]
  },
  {
   "cell_type": "code",
   "execution_count": 5,
   "metadata": {},
   "outputs": [
    {
     "data": {
      "text/plain": [
       "66"
      ]
     },
     "execution_count": 5,
     "metadata": {},
     "output_type": "execute_result"
    }
   ],
   "source": [
    "data[-2]"
   ]
  },
  {
   "cell_type": "code",
   "execution_count": 6,
   "metadata": {},
   "outputs": [
    {
     "data": {
      "text/plain": [
       "54"
      ]
     },
     "execution_count": 6,
     "metadata": {},
     "output_type": "execute_result"
    }
   ],
   "source": [
    "data[-0]"
   ]
  },
  {
   "cell_type": "code",
   "execution_count": 18,
   "metadata": {},
   "outputs": [
    {
     "name": "stdout",
     "output_type": "stream",
     "text": [
      "[[3 7]\n",
      " [5 8]\n",
      " [6 9]]\n"
     ]
    }
   ],
   "source": [
    "a=np.array([[3,5,6], [7,8,9]])\n",
    "a=a.transpose()\n",
    "print(a)\n",
    "\n",
    "\n"
   ]
  },
  {
   "cell_type": "code",
   "execution_count": 22,
   "metadata": {},
   "outputs": [
    {
     "name": "stdout",
     "output_type": "stream",
     "text": [
      "[[ 7  8  9]\n",
      " [10 11 12]]\n"
     ]
    }
   ],
   "source": [
    "a=np.array ([[7,8,9], [10,11,12]])\n",
    "a=a.reshape(2,3)\n",
    "print(a)"
   ]
  },
  {
   "cell_type": "code",
   "execution_count": 30,
   "metadata": {},
   "outputs": [
    {
     "name": "stdout",
     "output_type": "stream",
     "text": [
      "[[ 0.  1.  2.  3.]\n",
      " [ 4.  5.  6.  7.]\n",
      " [ 8.  9. 10. 11.]\n",
      " [12. 13. 14. 15.]]\n",
      "[array([[ 0.,  1.],\n",
      "       [ 4.,  5.],\n",
      "       [ 8.,  9.],\n",
      "       [12., 13.]]), array([[ 2.,  3.],\n",
      "       [ 6.,  7.],\n",
      "       [10., 11.],\n",
      "       [14., 15.]])]\n",
      "[array([[[ 0.,  1.],\n",
      "        [ 4.,  5.],\n",
      "        [ 8.,  9.],\n",
      "        [12., 13.]],\n",
      "\n",
      "       [[ 2.,  3.],\n",
      "        [ 6.,  7.],\n",
      "        [10., 11.],\n",
      "        [14., 15.]]]), array([], shape=(0, 4, 2), dtype=float64), array([], shape=(0, 4, 2), dtype=float64)]\n"
     ]
    }
   ],
   "source": [
    "a=np.arange (16.0).reshape (4,4)\n",
    "print(a)\n",
    "a=np.hsplit(a,2)\n",
    "print(a)\n",
    "a=np.split (a, np.array ([3,4]))\n",
    "print(a)"
   ]
  },
  {
   "cell_type": "code",
   "execution_count": 40,
   "metadata": {},
   "outputs": [
    {
     "data": {
      "text/plain": [
       "3"
      ]
     },
     "execution_count": 40,
     "metadata": {},
     "output_type": "execute_result"
    }
   ],
   "source": [
    "import pandas as pd\n",
    "my_series2 = pd.Series ([2,3,4,5,6])\n",
    "my_series2.index=['a','b','c','d','e'] \n",
    "my_series2\n",
    "my_series2 ['b']"
   ]
  },
  {
   "cell_type": "code",
   "execution_count": 46,
   "metadata": {},
   "outputs": [
    {
     "name": "stdout",
     "output_type": "stream",
     "text": [
      "a    1\n",
      "b    2\n",
      "c    3\n",
      "dtype: int64\n",
      "a    7\n",
      "b    7\n",
      "c    7\n",
      "dtype: int64\n"
     ]
    },
    {
     "data": {
      "text/plain": [
       "a    1\n",
       "b    2\n",
       "dtype: int64"
      ]
     },
     "execution_count": 46,
     "metadata": {},
     "output_type": "execute_result"
    }
   ],
   "source": [
    "d={'a':1, 'b':2, 'c':3}\n",
    "s=pd.Series(d)\n",
    "print(s)\n",
    "a=7\n",
    "s1=pd.Series (a, ['a', 'b', 'c'])\n",
    "print(s1)\n",
    "s1['c']\n",
    "s[2]\n",
    "s[:2]"
   ]
  },
  {
   "cell_type": "code",
   "execution_count": 55,
   "metadata": {},
   "outputs": [
    {
     "data": {
      "text/plain": [
       "a    12\n",
       "b    23\n",
       "c    34\n",
       "d    45\n",
       "e    56\n",
       "dtype: int64"
      ]
     },
     "execution_count": 55,
     "metadata": {},
     "output_type": "execute_result"
    }
   ],
   "source": [
    "my_series2 = pd. Series ([10, 20, 30, 40, 50], ['a', 'b', 'c', 'd', 'e'])\n",
    "my_series3 = pd. Series ([2,3,4,5,6], ['a', 'b', 'c', 'd', 'e'])\n",
    "my_series2 + my_series3\n"
   ]
  },
  {
   "cell_type": "code",
   "execution_count": 60,
   "metadata": {},
   "outputs": [
    {
     "name": "stdout",
     "output_type": "stream",
     "text": [
      "         title  year  name  type\n",
      "1813168      1  2013     5     8\n",
      "181369       2  1992     6     9\n",
      "1813170      3  2003     7    10\n"
     ]
    }
   ],
   "source": [
    "d = { \"title\":pd.Series ([1, 2, 3], index = ['1813168', '181369', '1813170']),\n",
    "      \"year\": pd.Series (([2013, 1992, 2003]), index = ['1813168', '181369', '1813170']),\n",
    "      \"name\": pd.Series (([5, 6, 7]), index = ['1813168', '181369', '1813170']),\n",
    "      \"type\": pd.Series ((8, 9, 10), index = ['1813168', '181369', '1813170'])}\n",
    "df1= pd.DataFrame(d)\n",
    "print(df1)\n",
    "     \n",
    "     "
   ]
  },
  {
   "cell_type": "code",
   "execution_count": 86,
   "metadata": {},
   "outputs": [
    {
     "name": "stdout",
     "output_type": "stream",
     "text": [
      "   price  count\n",
      "0      3      8\n",
      "1      4     11\n"
     ]
    },
    {
     "data": {
      "text/plain": [
       "price     4\n",
       "count    11\n",
       "Name: 1, dtype: int64"
      ]
     },
     "execution_count": 86,
     "metadata": {},
     "output_type": "execute_result"
    }
   ],
   "source": [
    "d3 = [{\"price\": 3, \"count\": 8}, {\"price\": 4, \"count\": 11}]\n",
    "df3 = pd.DataFrame(d3)\n",
    "print(df3)\n",
    "df3['count']\n",
    "df3.iloc[1]"
   ]
  },
  {
   "cell_type": "code",
   "execution_count": 88,
   "metadata": {},
   "outputs": [
    {
     "name": "stdout",
     "output_type": "stream",
     "text": [
      "         title  year  name  type\n",
      "1813168      1  2013     5     8\n",
      "181369       2  1992     6     9\n",
      "1813170      3  2003     7    10\n"
     ]
    },
    {
     "data": {
      "text/plain": [
       "1813168    1\n",
       "181369     2\n",
       "1813170    3\n",
       "Name: title, dtype: int64"
      ]
     },
     "execution_count": 88,
     "metadata": {},
     "output_type": "execute_result"
    }
   ],
   "source": [
    "d = { \"title\":pd.Series ([1, 2, 3], index = ['1813168', '181369', '1813170']),\n",
    "      \"year\": pd.Series (([2013, 1992, 2003]), index = ['1813168', '181369', '1813170']),\n",
    "      \"name\": pd.Series (([5, 6, 7]), index = ['1813168', '181369', '1813170']),\n",
    "      \"type\": pd.Series ((8, 9, 10), index = ['1813168', '181369', '1813170'])}\n",
    "df1= pd.DataFrame(d)\n",
    "print(df1)\n",
    "df1['title']\n"
   ]
  },
  {
   "cell_type": "code",
   "execution_count": 8,
   "metadata": {},
   "outputs": [
    {
     "name": "stdout",
     "output_type": "stream",
     "text": [
      "[[ 5]\n",
      " [15]\n",
      " [20]\n",
      " [25]\n",
      " [30]\n",
      " [35]]\n",
      "[ 5 20 14 32 22 38]\n",
      "coefficient of determination: 0.7452219513009786\n",
      "intercept: 1.1571428571428584\n",
      "slope: [0.95428571]\n",
      "predicted response:\n",
      "[ 5.92857143 15.47142857 20.24285714 25.01428571 29.78571429 34.55714286]\n"
     ]
    }
   ],
   "source": [
    "import numpy as np\n",
    "from sklearn.linear_model import LinearRegression\n",
    "x=np.array([5,15,20,25,30,35]). reshape ((-1,1))\n",
    "y=np.array([5,20,14,32,22,38])\n",
    "print(x)\n",
    "print(y)\n",
    "model=LinearRegression().fit(x,y)\n",
    "r_sq=model.score(x,y)\n",
    "print('coefficient of determination:', r_sq)\n",
    "print('intercept:', model.intercept_)\n",
    "print('slope:', model.coef_)\n",
    "y_pred=model.predict(x)\n",
    "print('predicted response:', y_pred, sep='\\n')"
   ]
  },
  {
   "cell_type": "code",
   "execution_count": 23,
   "metadata": {},
   "outputs": [
    {
     "name": "stdout",
     "output_type": "stream",
     "text": [
      "[[ 0]\n",
      " [ 1]\n",
      " [ 2]\n",
      " [ 3]\n",
      " [ 4]\n",
      " [ 5]\n",
      " [ 6]\n",
      " [ 7]\n",
      " [ 8]\n",
      " [ 9]\n",
      " [10]\n",
      " [11]\n",
      " [12]\n",
      " [13]\n",
      " [14]]\n",
      "[ 1.15714286  2.11142857  3.06571429  4.02        4.97428571  5.92857143\n",
      "  6.88285714  7.83714286  8.79142857  9.74571429 10.7        11.65428571\n",
      " 12.60857143 13.56285714 14.51714286]\n"
     ]
    }
   ],
   "source": [
    "x_new=np.arange (15). reshape((-1,1))\n",
    "print(x_new)\n",
    "y_new = model.predict (x_new)\n",
    "print(y_new)"
   ]
  },
  {
   "cell_type": "code",
   "execution_count": 4,
   "metadata": {},
   "outputs": [
    {
     "name": "stdout",
     "output_type": "stream",
     "text": [
      "[[ 5]\n",
      " [15]\n",
      " [20]\n",
      " [25]\n",
      " [30]\n",
      " [35]]\n",
      "[10 40 45 50 55]\n"
     ]
    }
   ],
   "source": [
    "import numpy as np\n",
    "import matplotlib.pyplot as plt\n",
    "from sklearn.linear_model import LinearRegression\n",
    "x=np.array([5,15,20,25,30,35]). reshape ((-1,1))\n",
    "print(x)\n",
    "y=np.array ([10,40,45,50,55])\n",
    "print(y)\n",
    "\n"
   ]
  },
  {
   "cell_type": "code",
   "execution_count": 15,
   "metadata": {},
   "outputs": [
    {
     "name": "stdout",
     "output_type": "stream",
     "text": [
      "[]\n",
      "<class 'matplotlib.figure.Figure'>\n"
     ]
    },
    {
     "data": {
      "image/png": "[encoded data removed]",
      "text/plain": [
       "<Figure size 432x288 with 1 Axes>"
      ]
     },
     "metadata": {
      "needs_background": "light"
     },
     "output_type": "display_data"
    },
    {
     "data": {
      "image/png": "[encoded data removed]",
      "text/plain": [
       "<Figure size 432x288 with 1 Axes>"
      ]
     },
     "metadata": {
      "needs_background": "light"
     },
     "output_type": "display_data"
    },
    {
     "data": {
      "text/plain": [
       "<Figure size 1080x720 with 0 Axes>"
      ]
     },
     "metadata": {},
     "output_type": "display_data"
    }
   ],
   "source": [
    "import matplotlib.pyplot as plt\n",
    "fig=plt.figure()\n",
    "print(fig.axes)\n",
    "print(type(fig))\n",
    "plt.scatter(2.0,1.0)\n",
    "plt.show()\n",
    "plt.scatter([-30,-20,-10,10,20,30], [-30,-20,0,30,20,40])\n",
    "plt.plot ([-30,-20,-10,10,20,30], [-30,-20,0,30,20,40])\n",
    "plt.show \n",
    "plt.title('MinTemp vs MaxTemp')  \n",
    "plt.xlabel('MinTemp')  \n",
    "plt.ylabel('MaxTemp')  \n",
    "plt.show()\n",
    "plt.figure(figsize=(15,10))\n",
    "plt.tight_layout()\n",
    "\n"
   ]
  },
  {
   "cell_type": "code",
   "execution_count": 21,
   "metadata": {},
   "outputs": [
    {
     "data": {
      "text/plain": [
       "<function matplotlib.pyplot.show(close=None, block=None)>"
      ]
     },
     "execution_count": 21,
     "metadata": {},
     "output_type": "execute_result"
    },
    {
     "data": {
      "image/png": "[encoded data removed]",
      "text/plain": [
       "<Figure size 432x288 with 1 Axes>"
      ]
     },
     "metadata": {
      "needs_background": "light"
     },
     "output_type": "display_data"
    }
   ],
   "source": [
    "import matplotlib.pyplot as plt\n",
    "import numpy as np\n",
    "fig = plt.figure()\n",
    "plt.hist(z)\n",
    "plt.title('Simple histogramm')\n",
    "plt.grid(True)\n",
    "plt.show"
   ]
  },
  {
   "cell_type": "code",
   "execution_count": 22,
   "metadata": {},
   "outputs": [
    {
     "data": {
      "text/plain": [
       "<function matplotlib.pyplot.show(close=None, block=None)>"
      ]
     },
     "execution_count": 22,
     "metadata": {},
     "output_type": "execute_result"
    },
    {
     "data": {
      "image/png": "[encoded data removed]",
      "text/plain": [
       "<Figure size 432x288 with 1 Axes>"
      ]
     },
     "metadata": {},
     "output_type": "display_data"
    }
   ],
   "source": [
    "fig = plt.figure()\n",
    "plt.pie(x, labels=s)\n",
    "plt.title('Simple pie chart')\n",
    "plt.show"
   ]
  },
  {
   "cell_type": "code",
   "execution_count": 28,
   "metadata": {},
   "outputs": [
    {
     "name": "stdout",
     "output_type": "stream",
     "text": [
      "[]\n",
      "<class 'matplotlib.figure.Figure'>\n"
     ]
    },
    {
     "data": {
      "image/png": "[encoded data removed]",
      "text/plain": [
       "<Figure size 432x288 with 1 Axes>"
      ]
     },
     "metadata": {
      "needs_background": "light"
     },
     "output_type": "display_data"
    },
    {
     "data": {
      "image/png": "[encoded data removed]",
      "text/plain": [
       "<Figure size 432x288 with 1 Axes>"
      ]
     },
     "metadata": {
      "needs_background": "light"
     },
     "output_type": "display_data"
    }
   ],
   "source": [
    "import matplotlib.pyplot as plt\n",
    "fig=plt.figure()\n",
    "print(fig.axes)\n",
    "print(type(fig))\n",
    "plt.scatter(2.0,1.0)\n",
    "plt.show()\n",
    "plt.scatter([4.0, 4.5, 5.0, 5.5,6.0,6.5,7.0,7.5], [1.5,2.0,2.5,3.0,3.5,4.0,4.5,5.0])\n",
    "plt.scatter([4.2, 4.4, 4.6, 4.9,5.1,5.3,5.5,5.6], [1.7,1.9,2.0,2.3,2.6,2.5,3.0,3.4])\n",
    "plt.scatter([4.9, 5.5, 5.6, 5.7,5.9,6.0,6.5,7.8], [2.2,2.7,3.2,3.6,4.1,4.5,4.9,5.0])\n",
    "plt.plot([4.0, 4.5, 5.0, 5.5,6.0,6.5,7.0,7.5], [1.5,2.0,2.5,3.0,3.5,4.0,4.5,5.0])\n",
    "plt.plot([4.2, 4.4, 4.6, 4.9,5.1,5.3,5.5,5.6], [1.7,1.9,2.0,2.3,2.6,2.5,3.0,3.4])\n",
    "plt.plot([4.9, 5.5, 5.6, 5.7,5.9,6.0,6.5,7.8], [2.2,2.7,3.2,3.6,4.1,4.5,4.9,5.0])\n",
    "plt.grid(True)\n",
    "plt.show \n",
    "plt.title('The Iris Data Set')  \n",
    "plt.xlabel('sepal length')  \n",
    "plt.ylabel('sepal width')  \n",
    "plt.show()\n",
    "\n",
    "\n"
   ]
  },
  {
   "cell_type": "code",
   "execution_count": 45,
   "metadata": {},
   "outputs": [
    {
     "data": {
      "text/plain": [
       "[<matplotlib.lines.Line2D at 0x7fa988b3ea20>]"
      ]
     },
     "execution_count": 45,
     "metadata": {},
     "output_type": "execute_result"
    },
    {
     "data": {
      "image/png": "[encoded data removed]",
      "text/plain": [
       "<Figure size 432x288 with 1 Axes>"
      ]
     },
     "metadata": {
      "needs_background": "light"
     },
     "output_type": "display_data"
    }
   ],
   "source": [
    "plt.plot ([1,2,3,4,5], [1,2,3,4,5])\n",
    "x=np.linspace(0,10,50)\n",
    "y=x\n",
    "plt.title(\"Линейная зависимость x=y\")\n",
    "plt.xlabel(\"x\")\n",
    "plt.ylabel(\"y\")\n",
    "plt.grid()\n",
    "plt.plot(x,y, \"r--\")\n",
    "plt.show()"
   ]
  },
  {
   "cell_type": "code",
   "execution_count": 50,
   "metadata": {},
   "outputs": [
    {
     "data": {
      "image/png": "[encoded data removed]",
      "text/plain": [
       "<Figure size 432x288 with 1 Axes>"
      ]
     },
     "metadata": {
      "needs_background": "light"
     },
     "output_type": "display_data"
    }
   ],
   "source": [
    "plt.plot ([1,2,3,4,5], [1,2,3,4,5])\n",
    "x=np.linspace(0,25,50)\n",
    "y1=x\n",
    "y2=[i**2 for i in x]\n",
    "plt.title(\"Зависимости:y1=x,y2=x^2\")\n",
    "plt.xlabel(\"x\")\n",
    "plt.ylabel(\"y1,y2\")\n",
    "plt.grid()\n",
    "plt.plot(x,y1,x,y2)\n",
    "plt.show()\n"
   ]
  },
  {
   "cell_type": "code",
   "execution_count": 52,
   "metadata": {},
   "outputs": [
    {
     "data": {
      "image/png": "[encoded data removed]",
      "text/plain": [
       "<Figure size 648x648 with 2 Axes>"
      ]
     },
     "metadata": {
      "needs_background": "light"
     },
     "output_type": "display_data"
    }
   ],
   "source": [
    "x=np.linspace(0,10,50)\n",
    "y1=x\n",
    "y2=[i**2 for i in x]\n",
    "plt.figure (figsize=(9,9))\n",
    "plt.subplot(2,1,1)\n",
    "plt.plot(x,y1)\n",
    "plt.title(\"Зависимости:y1=x,y2=x^2\")\n",
    "plt.ylabel(\"y1\", fontsize=14)\n",
    "plt.grid()\n",
    "plt.subplot(2,1,2)\n",
    "plt.plot(x,y2)\n",
    "plt.xlabel(\"x\", fontsize=14)\n",
    "plt.ylabel(\"y2\", fontsize=14)\n",
    "plt.grid()\n",
    "plt.show()\n",
    "\n"
   ]
  },
  {
   "cell_type": "code",
   "execution_count": 53,
   "metadata": {},
   "outputs": [
    {
     "data": {
      "text/plain": [
       "Text(0, 0.5, 'Count')"
      ]
     },
     "execution_count": 53,
     "metadata": {},
     "output_type": "execute_result"
    },
    {
     "data": {
      "image/png": "[encoded data removed]",
      "text/plain": [
       "<Figure size 432x288 with 1 Axes>"
      ]
     },
     "metadata": {
      "needs_background": "light"
     },
     "output_type": "display_data"
    }
   ],
   "source": [
    "fruits = [\"apple\", \"orange\", \"melon\", \"banana\", \"peach\"]\n",
    "counts = [34,25,43,31,17]\n",
    "plt.bar (fruits,counts)\n",
    "plt.title (\"Fruits\")\n",
    "plt.xlabel(\"Fruit\")\n",
    "plt.ylabel(\"Count\")"
   ]
  },
  {
   "cell_type": "code",
   "execution_count": 5,
   "metadata": {},
   "outputs": [
    {
     "name": "stdout",
     "output_type": "stream",
     "text": [
      "(506, 13)\n"
     ]
    }
   ],
   "source": [
    "from sklearn.datasets import load_boston\n",
    "X, y = load_boston(return_X_y=True)\n",
    "print(X.shape)"
   ]
  },
  {
   "cell_type": "code",
   "execution_count": 18,
   "metadata": {},
   "outputs": [
    {
     "name": "stdout",
     "output_type": "stream",
     "text": [
      ".. _boston_dataset:\n",
      "\n",
      "Boston house prices dataset\n",
      "---------------------------\n",
      "\n",
      "**Data Set Characteristics:**  \n",
      "\n",
      "    :Number of Instances: 506 \n",
      "\n",
      "    :Number of Attributes: 13 numeric/categorical predictive. Median Value (attribute 14) is usually the target.\n",
      "\n",
      "    :Attribute Information (in order):\n",
      "        - CRIM     per capita crime rate by town\n",
      "        - ZN       proportion of residential land zoned for lots over 25,000 sq.ft.\n",
      "        - INDUS    proportion of non-retail business acres per town\n",
      "        - CHAS     Charles River dummy variable (= 1 if tract bounds river; 0 otherwise)\n",
      "        - NOX      nitric oxides concentration (parts per 10 million)\n",
      "        - RM       average number of rooms per dwelling\n",
      "        - AGE      proportion of owner-occupied units built prior to 1940\n",
      "        - DIS      weighted distances to five Boston employment centres\n",
      "        - RAD      index of accessibility to radial highways\n",
      "        - TAX      full-value property-tax rate per $10,000\n",
      "        - PTRATIO  pupil-teacher ratio by town\n",
      "        - B        1000(Bk - 0.63)^2 where Bk is the proportion of black people by town\n",
      "        - LSTAT    % lower status of the population\n",
      "        - MEDV     Median value of owner-occupied homes in $1000's\n",
      "\n",
      "    :Missing Attribute Values: None\n",
      "\n",
      "    :Creator: Harrison, D. and Rubinfeld, D.L.\n",
      "\n",
      "This is a copy of UCI ML housing dataset.\n",
      "https://archive.ics.uci.edu/ml/machine-learning-databases/housing/\n",
      "\n",
      "\n",
      "This dataset was taken from the StatLib library which is maintained at Carnegie Mellon University.\n",
      "\n",
      "The Boston house-price data of Harrison, D. and Rubinfeld, D.L. 'Hedonic\n",
      "prices and the demand for clean air', J. Environ. Economics & Management,\n",
      "vol.5, 81-102, 1978.   Used in Belsley, Kuh & Welsch, 'Regression diagnostics\n",
      "...', Wiley, 1980.   N.B. Various transformations are used in the table on\n",
      "pages 244-261 of the latter.\n",
      "\n",
      "The Boston house-price data has been used in many machine learning papers that address regression\n",
      "problems.   \n",
      "     \n",
      ".. topic:: References\n",
      "\n",
      "   - Belsley, Kuh & Welsch, 'Regression diagnostics: Identifying Influential Data and Sources of Collinearity', Wiley, 1980. 244-261.\n",
      "   - Quinlan,R. (1993). Combining Instance-Based and Model-Based Learning. In Proceedings on the Tenth International Conference of Machine Learning, 236-243, University of Massachusetts, Amherst. Morgan Kaufmann.\n",
      "\n",
      "     0.00632  18.00   2.310  0  0.5380  6.5750  65.20  4.0900   1  296.0  15.30 396.90   4.98  24.00\n",
      "0     0.02731   0.00   7.070  0  0.4690  6.4210  78...                                              \n",
      "1     0.02729   0.00   7.070  0  0.4690  7.1850  61...                                              \n",
      "2     0.03237   0.00   2.180  0  0.4580  6.9980  45...                                              \n",
      "3     0.06905   0.00   2.180  0  0.4580  7.1470  54...                                              \n",
      "4     0.02985   0.00   2.180  0  0.4580  6.4300  58...                                              \n",
      "..                                                 ...                                              \n",
      "500   0.06263   0.00  11.930  0  0.5730  6.5930  69...                                              \n",
      "501   0.04527   0.00  11.930  0  0.5730  6.1200  76...                                              \n",
      "502   0.06076   0.00  11.930  0  0.5730  6.9760  91...                                              \n",
      "503   0.10959   0.00  11.930  0  0.5730  6.7940  89...                                              \n",
      "504   0.04741   0.00  11.930  0  0.5730  6.0300  80...                                              \n",
      "\n",
      "[505 rows x 1 columns]\n"
     ]
    },
    {
     "data": {
      "text/html": [
       "<div>\n",
       "<style scoped>\n",
       "    .dataframe tbody tr th:only-of-type {\n",
       "        vertical-align: middle;\n",
       "    }\n",
       "\n",
       "    .dataframe tbody tr th {\n",
       "        vertical-align: top;\n",
       "    }\n",
       "\n",
       "    .dataframe thead th {\n",
       "        text-align: right;\n",
       "    }\n",
       "</style>\n",
       "<table border=\"1\" class=\"dataframe\">\n",
       "  <thead>\n",
       "    <tr style=\"text-align: right;\">\n",
       "      <th></th>\n",
       "      <th>CRIM</th>\n",
       "      <th>ZN</th>\n",
       "      <th>INDUS</th>\n",
       "      <th>CHAS</th>\n",
       "      <th>NOX</th>\n",
       "      <th>RM</th>\n",
       "      <th>AGE</th>\n",
       "      <th>DIS</th>\n",
       "      <th>RAD</th>\n",
       "      <th>TAX</th>\n",
       "      <th>PTRATIO</th>\n",
       "      <th>B</th>\n",
       "      <th>LSTAT</th>\n",
       "      <th>Price</th>\n",
       "    </tr>\n",
       "  </thead>\n",
       "  <tbody>\n",
       "    <tr>\n",
       "      <th>0</th>\n",
       "      <td>0.00632</td>\n",
       "      <td>18.0</td>\n",
       "      <td>2.31</td>\n",
       "      <td>0.0</td>\n",
       "      <td>0.538</td>\n",
       "      <td>6.575</td>\n",
       "      <td>65.2</td>\n",
       "      <td>4.0900</td>\n",
       "      <td>1.0</td>\n",
       "      <td>296.0</td>\n",
       "      <td>15.3</td>\n",
       "      <td>396.90</td>\n",
       "      <td>4.98</td>\n",
       "      <td>24.0</td>\n",
       "    </tr>\n",
       "    <tr>\n",
       "      <th>1</th>\n",
       "      <td>0.02731</td>\n",
       "      <td>0.0</td>\n",
       "      <td>7.07</td>\n",
       "      <td>0.0</td>\n",
       "      <td>0.469</td>\n",
       "      <td>6.421</td>\n",
       "      <td>78.9</td>\n",
       "      <td>4.9671</td>\n",
       "      <td>2.0</td>\n",
       "      <td>242.0</td>\n",
       "      <td>17.8</td>\n",
       "      <td>396.90</td>\n",
       "      <td>9.14</td>\n",
       "      <td>21.6</td>\n",
       "    </tr>\n",
       "    <tr>\n",
       "      <th>2</th>\n",
       "      <td>0.02729</td>\n",
       "      <td>0.0</td>\n",
       "      <td>7.07</td>\n",
       "      <td>0.0</td>\n",
       "      <td>0.469</td>\n",
       "      <td>7.185</td>\n",
       "      <td>61.1</td>\n",
       "      <td>4.9671</td>\n",
       "      <td>2.0</td>\n",
       "      <td>242.0</td>\n",
       "      <td>17.8</td>\n",
       "      <td>392.83</td>\n",
       "      <td>4.03</td>\n",
       "      <td>34.7</td>\n",
       "    </tr>\n",
       "    <tr>\n",
       "      <th>3</th>\n",
       "      <td>0.03237</td>\n",
       "      <td>0.0</td>\n",
       "      <td>2.18</td>\n",
       "      <td>0.0</td>\n",
       "      <td>0.458</td>\n",
       "      <td>6.998</td>\n",
       "      <td>45.8</td>\n",
       "      <td>6.0622</td>\n",
       "      <td>3.0</td>\n",
       "      <td>222.0</td>\n",
       "      <td>18.7</td>\n",
       "      <td>394.63</td>\n",
       "      <td>2.94</td>\n",
       "      <td>33.4</td>\n",
       "    </tr>\n",
       "    <tr>\n",
       "      <th>4</th>\n",
       "      <td>0.06905</td>\n",
       "      <td>0.0</td>\n",
       "      <td>2.18</td>\n",
       "      <td>0.0</td>\n",
       "      <td>0.458</td>\n",
       "      <td>7.147</td>\n",
       "      <td>54.2</td>\n",
       "      <td>6.0622</td>\n",
       "      <td>3.0</td>\n",
       "      <td>222.0</td>\n",
       "      <td>18.7</td>\n",
       "      <td>396.90</td>\n",
       "      <td>5.33</td>\n",
       "      <td>36.2</td>\n",
       "    </tr>\n",
       "  </tbody>\n",
       "</table>\n",
       "</div>"
      ],
      "text/plain": [
       "      CRIM    ZN  INDUS  CHAS    NOX     RM   AGE     DIS  RAD    TAX  \\\n",
       "0  0.00632  18.0   2.31   0.0  0.538  6.575  65.2  4.0900  1.0  296.0   \n",
       "1  0.02731   0.0   7.07   0.0  0.469  6.421  78.9  4.9671  2.0  242.0   \n",
       "2  0.02729   0.0   7.07   0.0  0.469  7.185  61.1  4.9671  2.0  242.0   \n",
       "3  0.03237   0.0   2.18   0.0  0.458  6.998  45.8  6.0622  3.0  222.0   \n",
       "4  0.06905   0.0   2.18   0.0  0.458  7.147  54.2  6.0622  3.0  222.0   \n",
       "\n",
       "   PTRATIO       B  LSTAT  Price  \n",
       "0     15.3  396.90   4.98   24.0  \n",
       "1     17.8  396.90   9.14   21.6  \n",
       "2     17.8  392.83   4.03   34.7  \n",
       "3     18.7  394.63   2.94   33.4  \n",
       "4     18.7  396.90   5.33   36.2  "
      ]
     },
     "execution_count": 18,
     "metadata": {},
     "output_type": "execute_result"
    }
   ],
   "source": [
    "import matplotlib.pyplot as plt\n",
    "import numpy as np\n",
    "import pandas as pd\n",
    "from sklearn.datasets import load_boston\n",
    "boston = load_boston()\n",
    "print(boston.DESCR)\n",
    "boston_df = pd.DataFrame(boston.data, columns=boston.feature_names)\n",
    "df=pd.read_csv('housing.csv')\n",
    "print (df)\n",
    "boston_df = pd.DataFrame(boston.data)\n",
    "boston_df.head()\n",
    "boston_df.columns=boston.feature_names\n",
    "boston_df['Price'] = boston.target\n",
    "boston_df.head()\n",
    "\n"
   ]
  },
  {
   "cell_type": "code",
   "execution_count": 37,
   "metadata": {},
   "outputs": [
    {
     "name": "stdout",
     "output_type": "stream",
     "text": [
      "      CRIM    ZN  INDUS  CHAS    NOX     RM   AGE     DIS  RAD    TAX  \\\n",
      "0  0.00632  18.0   2.31     0  0.538  6.575  65.2  4.0900    1  296.0   \n",
      "1  0.02731   0.0   7.07     0  0.469  6.421  78.9  4.9671    2  242.0   \n",
      "2  0.02729   0.0   7.07     0  0.469  7.185  61.1  4.9671    2  242.0   \n",
      "3  0.03237   0.0   2.18     0  0.458  6.998  45.8  6.0622    3  222.0   \n",
      "4  0.06905   0.0   2.18     0  0.458  7.147  54.2  6.0622    3  222.0   \n",
      "\n",
      "   PTRATIO       B  LSTAT  MEDV  \n",
      "0     15.3  396.90   4.98  24.0  \n",
      "1     17.8  396.90   9.14  21.6  \n",
      "2     17.8  392.83   4.03  34.7  \n",
      "3     18.7  394.63   2.94  33.4  \n",
      "4     18.7  396.90   5.33  36.2  \n",
      "(506, 14)\n",
      "             CRIM          ZN       INDUS        CHAS         NOX          RM  \\\n",
      "count  506.000000  506.000000  506.000000  506.000000  506.000000  506.000000   \n",
      "mean     3.613524   11.363636   11.136779    0.069170    0.554695    6.284634   \n",
      "std      8.601545   23.322453    6.860353    0.253994    0.115878    0.702617   \n",
      "min      0.006320    0.000000    0.460000    0.000000    0.385000    3.561000   \n",
      "25%      0.082045    0.000000    5.190000    0.000000    0.449000    5.885500   \n",
      "50%      0.256510    0.000000    9.690000    0.000000    0.538000    6.208500   \n",
      "75%      3.677082   12.500000   18.100000    0.000000    0.624000    6.623500   \n",
      "max     88.976200  100.000000   27.740000    1.000000    0.871000    8.780000   \n",
      "\n",
      "              AGE         DIS         RAD         TAX     PTRATIO           B  \\\n",
      "count  506.000000  506.000000  506.000000  506.000000  506.000000  506.000000   \n",
      "mean    68.574901    3.795043    9.549407  408.237154   18.455534  356.674032   \n",
      "std     28.148861    2.105710    8.707259  168.537116    2.164946   91.294864   \n",
      "min      2.900000    1.129600    1.000000  187.000000   12.600000    0.320000   \n",
      "25%     45.025000    2.100175    4.000000  279.000000   17.400000  375.377500   \n",
      "50%     77.500000    3.207450    5.000000  330.000000   19.050000  391.440000   \n",
      "75%     94.075000    5.188425   24.000000  666.000000   20.200000  396.225000   \n",
      "max    100.000000   12.126500   24.000000  711.000000   22.000000  396.900000   \n",
      "\n",
      "            LSTAT        MEDV  \n",
      "count  506.000000  506.000000  \n",
      "mean    12.653063   22.532806  \n",
      "std      7.141062    9.197104  \n",
      "min      1.730000    5.000000  \n",
      "25%      6.950000   17.025000  \n",
      "50%     11.360000   21.200000  \n",
      "75%     16.955000   25.000000  \n",
      "max     37.970000   50.000000  \n",
      "(379, 13) (127, 13)\n",
      "0.9789645685113162\n",
      "0.8875937803413277\n",
      "0.9803725900157553\n",
      "0.8996466353532541\n"
     ]
    },
    {
     "data": {
      "text/plain": [
       "RM         0.415587\n",
       "LSTAT      0.385019\n",
       "DIS        0.063402\n",
       "CRIM       0.035154\n",
       "AGE        0.020414\n",
       "NOX        0.019693\n",
       "TAX        0.018332\n",
       "PTRATIO    0.015013\n",
       "B          0.013273\n",
       "INDUS      0.007536\n",
       "RAD        0.004620\n",
       "ZN         0.001002\n",
       "CHAS       0.000954\n",
       "dtype: float64"
      ]
     },
     "execution_count": 37,
     "metadata": {},
     "output_type": "execute_result"
    }
   ],
   "source": [
    "import numpy as np\n",
    "import pandas as pd \n",
    "from pandas import read_csv\n",
    "column_names = ['CRIM', 'ZN', 'INDUS', 'CHAS', 'NOX', 'RM', 'AGE', 'DIS', 'RAD', 'TAX', 'PTRATIO', 'B', 'LSTAT', 'MEDV']\n",
    "data = read_csv('housing.csv', header=None, delimiter=r\"\\s+\",names=column_names)\n",
    "print(data.head(5))\n",
    "print(np.shape(data))\n",
    "print(data.describe())\n",
    "from sklearn.model_selection import train_test_split\n",
    "Xtrain, Xtest, ytrain, ytest = train_test_split(boston.data, boston.target, random_state=2)\n",
    "print(Xtrain.shape, Xtest.shape)\n",
    "from sklearn.ensemble import RandomForestRegressor\n",
    "rfr = RandomForestRegressor(random_state = 2, n_jobs = -1)\n",
    "rfr.fit(Xtrain, ytrain)\n",
    "print(rfr.score(Xtrain, ytrain))\n",
    "print(rfr.score(Xtest, ytest))\n",
    "features_imp = pd.Series(rfr.feature_importances_, index=boston.feature_names)\n",
    "features_imp.sort_values(ascending=False)\n",
    "from sklearn.ensemble import GradientBoostingRegressor\n",
    "gbr = GradientBoostingRegressor (random_state = 2)\n",
    "gbr.fit(Xtrain, ytrain)\n",
    "print (gbr.score (Xtrain, ytrain))\n",
    "print (gbr.score (Xtest, ytest))\n",
    "features_imp = pd.Series(rfr.feature_importances_, index=boston.feature_names)\n",
    "features_imp.sort_values(ascending=False)"
   ]
  },
  {
   "cell_type": "code",
   "execution_count": null,
   "metadata": {},
   "outputs": [],
   "source": []
  },
  {
   "cell_type": "code",
   "execution_count": 52,
   "metadata": {},
   "outputs": [
    {
     "data": {
      "image/png": "[encoded data removed]",
      "text/plain": [
       "<Figure size 432x288 with 1 Axes>"
      ]
     },
     "metadata": {
      "needs_background": "light"
     },
     "output_type": "display_data"
    },
    {
     "name": "stdout",
     "output_type": "stream",
     "text": [
      "[ 0.          0.01001001  0.02002002  0.03003003  0.04004004  0.05005005\n",
      "  0.06006006  0.07007007  0.08008008  0.09009009  0.1001001   0.11011011\n",
      "  0.12012012  0.13013013  0.14014014  0.15015015  0.16016016  0.17017017\n",
      "  0.18018018  0.19019019  0.2002002   0.21021021  0.22022022  0.23023023\n",
      "  0.24024024  0.25025025  0.26026026  0.27027027  0.28028028  0.29029029\n",
      "  0.3003003   0.31031031  0.32032032  0.33033033  0.34034034  0.35035035\n",
      "  0.36036036  0.37037037  0.38038038  0.39039039  0.4004004   0.41041041\n",
      "  0.42042042  0.43043043  0.44044044  0.45045045  0.46046046  0.47047047\n",
      "  0.48048048  0.49049049  0.5005005   0.51051051  0.52052052  0.53053053\n",
      "  0.54054054  0.55055055  0.56056056  0.57057057  0.58058058  0.59059059\n",
      "  0.6006006   0.61061061  0.62062062  0.63063063  0.64064064  0.65065065\n",
      "  0.66066066  0.67067067  0.68068068  0.69069069  0.7007007   0.71071071\n",
      "  0.72072072  0.73073073  0.74074074  0.75075075  0.76076076  0.77077077\n",
      "  0.78078078  0.79079079  0.8008008   0.81081081  0.82082082  0.83083083\n",
      "  0.84084084  0.85085085  0.86086086  0.87087087  0.88088088  0.89089089\n",
      "  0.9009009   0.91091091  0.92092092  0.93093093  0.94094094  0.95095095\n",
      "  0.96096096  0.97097097  0.98098098  0.99099099  1.001001    1.01101101\n",
      "  1.02102102  1.03103103  1.04104104  1.05105105  1.06106106  1.07107107\n",
      "  1.08108108  1.09109109  1.1011011   1.11111111  1.12112112  1.13113113\n",
      "  1.14114114  1.15115115  1.16116116  1.17117117  1.18118118  1.19119119\n",
      "  1.2012012   1.21121121  1.22122122  1.23123123  1.24124124  1.25125125\n",
      "  1.26126126  1.27127127  1.28128128  1.29129129  1.3013013   1.31131131\n",
      "  1.32132132  1.33133133  1.34134134  1.35135135  1.36136136  1.37137137\n",
      "  1.38138138  1.39139139  1.4014014   1.41141141  1.42142142  1.43143143\n",
      "  1.44144144  1.45145145  1.46146146  1.47147147  1.48148148  1.49149149\n",
      "  1.5015015   1.51151151  1.52152152  1.53153153  1.54154154  1.55155155\n",
      "  1.56156156  1.57157157  1.58158158  1.59159159  1.6016016   1.61161161\n",
      "  1.62162162  1.63163163  1.64164164  1.65165165  1.66166166  1.67167167\n",
      "  1.68168168  1.69169169  1.7017017   1.71171171  1.72172172  1.73173173\n",
      "  1.74174174  1.75175175  1.76176176  1.77177177  1.78178178  1.79179179\n",
      "  1.8018018   1.81181181  1.82182182  1.83183183  1.84184184  1.85185185\n",
      "  1.86186186  1.87187187  1.88188188  1.89189189  1.9019019   1.91191191\n",
      "  1.92192192  1.93193193  1.94194194  1.95195195  1.96196196  1.97197197\n",
      "  1.98198198  1.99199199  2.002002    2.01201201  2.02202202  2.03203203\n",
      "  2.04204204  2.05205205  2.06206206  2.07207207  2.08208208  2.09209209\n",
      "  2.1021021   2.11211211  2.12212212  2.13213213  2.14214214  2.15215215\n",
      "  2.16216216  2.17217217  2.18218218  2.19219219  2.2022022   2.21221221\n",
      "  2.22222222  2.23223223  2.24224224  2.25225225  2.26226226  2.27227227\n",
      "  2.28228228  2.29229229  2.3023023   2.31231231  2.32232232  2.33233233\n",
      "  2.34234234  2.35235235  2.36236236  2.37237237  2.38238238  2.39239239\n",
      "  2.4024024   2.41241241  2.42242242  2.43243243  2.44244244  2.45245245\n",
      "  2.46246246  2.47247247  2.48248248  2.49249249  2.5025025   2.51251251\n",
      "  2.52252252  2.53253253  2.54254254  2.55255255  2.56256256  2.57257257\n",
      "  2.58258258  2.59259259  2.6026026   2.61261261  2.62262262  2.63263263\n",
      "  2.64264264  2.65265265  2.66266266  2.67267267  2.68268268  2.69269269\n",
      "  2.7027027   2.71271271  2.72272272  2.73273273  2.74274274  2.75275275\n",
      "  2.76276276  2.77277277  2.78278278  2.79279279  2.8028028   2.81281281\n",
      "  2.82282282  2.83283283  2.84284284  2.85285285  2.86286286  2.87287287\n",
      "  2.88288288  2.89289289  2.9029029   2.91291291  2.92292292  2.93293293\n",
      "  2.94294294  2.95295295  2.96296296  2.97297297  2.98298298  2.99299299\n",
      "  3.003003    3.01301301  3.02302302  3.03303303  3.04304304  3.05305305\n",
      "  3.06306306  3.07307307  3.08308308  3.09309309  3.1031031   3.11311311\n",
      "  3.12312312  3.13313313  3.14314314  3.15315315  3.16316316  3.17317317\n",
      "  3.18318318  3.19319319  3.2032032   3.21321321  3.22322322  3.23323323\n",
      "  3.24324324  3.25325325  3.26326326  3.27327327  3.28328328  3.29329329\n",
      "  3.3033033   3.31331331  3.32332332  3.33333333  3.34334334  3.35335335\n",
      "  3.36336336  3.37337337  3.38338338  3.39339339  3.4034034   3.41341341\n",
      "  3.42342342  3.43343343  3.44344344  3.45345345  3.46346346  3.47347347\n",
      "  3.48348348  3.49349349  3.5035035   3.51351351  3.52352352  3.53353353\n",
      "  3.54354354  3.55355355  3.56356356  3.57357357  3.58358358  3.59359359\n",
      "  3.6036036   3.61361361  3.62362362  3.63363363  3.64364364  3.65365365\n",
      "  3.66366366  3.67367367  3.68368368  3.69369369  3.7037037   3.71371371\n",
      "  3.72372372  3.73373373  3.74374374  3.75375375  3.76376376  3.77377377\n",
      "  3.78378378  3.79379379  3.8038038   3.81381381  3.82382382  3.83383383\n",
      "  3.84384384  3.85385385  3.86386386  3.87387387  3.88388388  3.89389389\n",
      "  3.9039039   3.91391391  3.92392392  3.93393393  3.94394394  3.95395395\n",
      "  3.96396396  3.97397397  3.98398398  3.99399399  4.004004    4.01401401\n",
      "  4.02402402  4.03403403  4.04404404  4.05405405  4.06406406  4.07407407\n",
      "  4.08408408  4.09409409  4.1041041   4.11411411  4.12412412  4.13413413\n",
      "  4.14414414  4.15415415  4.16416416  4.17417417  4.18418418  4.19419419\n",
      "  4.2042042   4.21421421  4.22422422  4.23423423  4.24424424  4.25425425\n",
      "  4.26426426  4.27427427  4.28428428  4.29429429  4.3043043   4.31431431\n",
      "  4.32432432  4.33433433  4.34434434  4.35435435  4.36436436  4.37437437\n",
      "  4.38438438  4.39439439  4.4044044   4.41441441  4.42442442  4.43443443\n",
      "  4.44444444  4.45445445  4.46446446  4.47447447  4.48448448  4.49449449\n",
      "  4.5045045   4.51451451  4.52452452  4.53453453  4.54454454  4.55455455\n",
      "  4.56456456  4.57457457  4.58458458  4.59459459  4.6046046   4.61461461\n",
      "  4.62462462  4.63463463  4.64464464  4.65465465  4.66466466  4.67467467\n",
      "  4.68468468  4.69469469  4.7047047   4.71471471  4.72472472  4.73473473\n",
      "  4.74474474  4.75475475  4.76476476  4.77477477  4.78478478  4.79479479\n",
      "  4.8048048   4.81481481  4.82482482  4.83483483  4.84484484  4.85485485\n",
      "  4.86486486  4.87487487  4.88488488  4.89489489  4.9049049   4.91491491\n",
      "  4.92492492  4.93493493  4.94494494  4.95495495  4.96496496  4.97497497\n",
      "  4.98498498  4.99499499  5.00500501  5.01501502  5.02502503  5.03503504\n",
      "  5.04504505  5.05505506  5.06506507  5.07507508  5.08508509  5.0950951\n",
      "  5.10510511  5.11511512  5.12512513  5.13513514  5.14514515  5.15515516\n",
      "  5.16516517  5.17517518  5.18518519  5.1951952   5.20520521  5.21521522\n",
      "  5.22522523  5.23523524  5.24524525  5.25525526  5.26526527  5.27527528\n",
      "  5.28528529  5.2952953   5.30530531  5.31531532  5.32532533  5.33533534\n",
      "  5.34534535  5.35535536  5.36536537  5.37537538  5.38538539  5.3953954\n",
      "  5.40540541  5.41541542  5.42542543  5.43543544  5.44544545  5.45545546\n",
      "  5.46546547  5.47547548  5.48548549  5.4954955   5.50550551  5.51551552\n",
      "  5.52552553  5.53553554  5.54554555  5.55555556  5.56556557  5.57557558\n",
      "  5.58558559  5.5955956   5.60560561  5.61561562  5.62562563  5.63563564\n",
      "  5.64564565  5.65565566  5.66566567  5.67567568  5.68568569  5.6956957\n",
      "  5.70570571  5.71571572  5.72572573  5.73573574  5.74574575  5.75575576\n",
      "  5.76576577  5.77577578  5.78578579  5.7957958   5.80580581  5.81581582\n",
      "  5.82582583  5.83583584  5.84584585  5.85585586  5.86586587  5.87587588\n",
      "  5.88588589  5.8958959   5.90590591  5.91591592  5.92592593  5.93593594\n",
      "  5.94594595  5.95595596  5.96596597  5.97597598  5.98598599  5.995996\n",
      "  6.00600601  6.01601602  6.02602603  6.03603604  6.04604605  6.05605606\n",
      "  6.06606607  6.07607608  6.08608609  6.0960961   6.10610611  6.11611612\n",
      "  6.12612613  6.13613614  6.14614615  6.15615616  6.16616617  6.17617618\n",
      "  6.18618619  6.1961962   6.20620621  6.21621622  6.22622623  6.23623624\n",
      "  6.24624625  6.25625626  6.26626627  6.27627628  6.28628629  6.2962963\n",
      "  6.30630631  6.31631632  6.32632633  6.33633634  6.34634635  6.35635636\n",
      "  6.36636637  6.37637638  6.38638639  6.3963964   6.40640641  6.41641642\n",
      "  6.42642643  6.43643644  6.44644645  6.45645646  6.46646647  6.47647648\n",
      "  6.48648649  6.4964965   6.50650651  6.51651652  6.52652653  6.53653654\n",
      "  6.54654655  6.55655656  6.56656657  6.57657658  6.58658659  6.5965966\n",
      "  6.60660661  6.61661662  6.62662663  6.63663664  6.64664665  6.65665666\n",
      "  6.66666667  6.67667668  6.68668669  6.6966967   6.70670671  6.71671672\n",
      "  6.72672673  6.73673674  6.74674675  6.75675676  6.76676677  6.77677678\n",
      "  6.78678679  6.7967968   6.80680681  6.81681682  6.82682683  6.83683684\n",
      "  6.84684685  6.85685686  6.86686687  6.87687688  6.88688689  6.8968969\n",
      "  6.90690691  6.91691692  6.92692693  6.93693694  6.94694695  6.95695696\n",
      "  6.96696697  6.97697698  6.98698699  6.996997    7.00700701  7.01701702\n",
      "  7.02702703  7.03703704  7.04704705  7.05705706  7.06706707  7.07707708\n",
      "  7.08708709  7.0970971   7.10710711  7.11711712  7.12712713  7.13713714\n",
      "  7.14714715  7.15715716  7.16716717  7.17717718  7.18718719  7.1971972\n",
      "  7.20720721  7.21721722  7.22722723  7.23723724  7.24724725  7.25725726\n",
      "  7.26726727  7.27727728  7.28728729  7.2972973   7.30730731  7.31731732\n",
      "  7.32732733  7.33733734  7.34734735  7.35735736  7.36736737  7.37737738\n",
      "  7.38738739  7.3973974   7.40740741  7.41741742  7.42742743  7.43743744\n",
      "  7.44744745  7.45745746  7.46746747  7.47747748  7.48748749  7.4974975\n",
      "  7.50750751  7.51751752  7.52752753  7.53753754  7.54754755  7.55755756\n",
      "  7.56756757  7.57757758  7.58758759  7.5975976   7.60760761  7.61761762\n",
      "  7.62762763  7.63763764  7.64764765  7.65765766  7.66766767  7.67767768\n",
      "  7.68768769  7.6976977   7.70770771  7.71771772  7.72772773  7.73773774\n",
      "  7.74774775  7.75775776  7.76776777  7.77777778  7.78778779  7.7977978\n",
      "  7.80780781  7.81781782  7.82782783  7.83783784  7.84784785  7.85785786\n",
      "  7.86786787  7.87787788  7.88788789  7.8978979   7.90790791  7.91791792\n",
      "  7.92792793  7.93793794  7.94794795  7.95795796  7.96796797  7.97797798\n",
      "  7.98798799  7.997998    8.00800801  8.01801802  8.02802803  8.03803804\n",
      "  8.04804805  8.05805806  8.06806807  8.07807808  8.08808809  8.0980981\n",
      "  8.10810811  8.11811812  8.12812813  8.13813814  8.14814815  8.15815816\n",
      "  8.16816817  8.17817818  8.18818819  8.1981982   8.20820821  8.21821822\n",
      "  8.22822823  8.23823824  8.24824825  8.25825826  8.26826827  8.27827828\n",
      "  8.28828829  8.2982983   8.30830831  8.31831832  8.32832833  8.33833834\n",
      "  8.34834835  8.35835836  8.36836837  8.37837838  8.38838839  8.3983984\n",
      "  8.40840841  8.41841842  8.42842843  8.43843844  8.44844845  8.45845846\n",
      "  8.46846847  8.47847848  8.48848849  8.4984985   8.50850851  8.51851852\n",
      "  8.52852853  8.53853854  8.54854855  8.55855856  8.56856857  8.57857858\n",
      "  8.58858859  8.5985986   8.60860861  8.61861862  8.62862863  8.63863864\n",
      "  8.64864865  8.65865866  8.66866867  8.67867868  8.68868869  8.6986987\n",
      "  8.70870871  8.71871872  8.72872873  8.73873874  8.74874875  8.75875876\n",
      "  8.76876877  8.77877878  8.78878879  8.7987988   8.80880881  8.81881882\n",
      "  8.82882883  8.83883884  8.84884885  8.85885886  8.86886887  8.87887888\n",
      "  8.88888889  8.8988989   8.90890891  8.91891892  8.92892893  8.93893894\n",
      "  8.94894895  8.95895896  8.96896897  8.97897898  8.98898899  8.998999\n",
      "  9.00900901  9.01901902  9.02902903  9.03903904  9.04904905  9.05905906\n",
      "  9.06906907  9.07907908  9.08908909  9.0990991   9.10910911  9.11911912\n",
      "  9.12912913  9.13913914  9.14914915  9.15915916  9.16916917  9.17917918\n",
      "  9.18918919  9.1991992   9.20920921  9.21921922  9.22922923  9.23923924\n",
      "  9.24924925  9.25925926  9.26926927  9.27927928  9.28928929  9.2992993\n",
      "  9.30930931  9.31931932  9.32932933  9.33933934  9.34934935  9.35935936\n",
      "  9.36936937  9.37937938  9.38938939  9.3993994   9.40940941  9.41941942\n",
      "  9.42942943  9.43943944  9.44944945  9.45945946  9.46946947  9.47947948\n",
      "  9.48948949  9.4994995   9.50950951  9.51951952  9.52952953  9.53953954\n",
      "  9.54954955  9.55955956  9.56956957  9.57957958  9.58958959  9.5995996\n",
      "  9.60960961  9.61961962  9.62962963  9.63963964  9.64964965  9.65965966\n",
      "  9.66966967  9.67967968  9.68968969  9.6996997   9.70970971  9.71971972\n",
      "  9.72972973  9.73973974  9.74974975  9.75975976  9.76976977  9.77977978\n",
      "  9.78978979  9.7997998   9.80980981  9.81981982  9.82982983  9.83983984\n",
      "  9.84984985  9.85985986  9.86986987  9.87987988  9.88988989  9.8998999\n",
      "  9.90990991  9.91991992  9.92992993  9.93993994  9.94994995  9.95995996\n",
      "  9.96996997  9.97997998  9.98998999 10.        ]\n",
      "[-4.76304275e+00 -4.74333812e+00 -4.72363349e+00 -4.70392886e+00\n",
      " -4.68422423e+00 -4.66451960e+00 -4.64481497e+00 -4.62511034e+00\n",
      " -4.60540571e+00 -4.58570108e+00 -4.56599645e+00 -4.54629182e+00\n",
      " -4.52658719e+00 -4.50688256e+00 -4.48717793e+00 -4.46747330e+00\n",
      " -4.44776867e+00 -4.42806404e+00 -4.40835941e+00 -4.38865478e+00\n",
      " -4.36895015e+00 -4.34924552e+00 -4.32954089e+00 -4.30983626e+00\n",
      " -4.29013163e+00 -4.27042700e+00 -4.25072237e+00 -4.23101774e+00\n",
      " -4.21131311e+00 -4.19160848e+00 -4.17190385e+00 -4.15219922e+00\n",
      " -4.13249459e+00 -4.11278997e+00 -4.09308534e+00 -4.07338071e+00\n",
      " -4.05367608e+00 -4.03397145e+00 -4.01426682e+00 -3.99456219e+00\n",
      " -3.97485756e+00 -3.95515293e+00 -3.93544830e+00 -3.91574367e+00\n",
      " -3.89603904e+00 -3.87633441e+00 -3.85662978e+00 -3.83692515e+00\n",
      " -3.81722052e+00 -3.79751589e+00 -3.77781126e+00 -3.75810663e+00\n",
      " -3.73840200e+00 -3.71869737e+00 -3.69899274e+00 -3.67928811e+00\n",
      " -3.65958348e+00 -3.63987885e+00 -3.62017422e+00 -3.60046959e+00\n",
      " -3.58076496e+00 -3.56106033e+00 -3.54135570e+00 -3.52165107e+00\n",
      " -3.50194644e+00 -3.48224181e+00 -3.46253718e+00 -3.44283255e+00\n",
      " -3.42312793e+00 -3.40342330e+00 -3.38371867e+00 -3.36401404e+00\n",
      " -3.34430941e+00 -3.32460478e+00 -3.30490015e+00 -3.28519552e+00\n",
      " -3.26549089e+00 -3.24578626e+00 -3.22608163e+00 -3.20637700e+00\n",
      " -3.18667237e+00 -3.16696774e+00 -3.14726311e+00 -3.12755848e+00\n",
      " -3.10785385e+00 -3.08814922e+00 -3.06844459e+00 -3.04873996e+00\n",
      " -3.02903533e+00 -3.00933070e+00 -2.98962607e+00 -2.96992144e+00\n",
      " -2.95021681e+00 -2.93051218e+00 -2.91080755e+00 -2.89110292e+00\n",
      " -2.87139829e+00 -2.85169366e+00 -2.83198903e+00 -2.81228440e+00\n",
      " -2.79257977e+00 -2.77287514e+00 -2.75317051e+00 -2.73346588e+00\n",
      " -2.71376126e+00 -2.69405663e+00 -2.67435200e+00 -2.65464737e+00\n",
      " -2.63494274e+00 -2.61523811e+00 -2.59553348e+00 -2.57582885e+00\n",
      " -2.55612422e+00 -2.53641959e+00 -2.51671496e+00 -2.49701033e+00\n",
      " -2.47730570e+00 -2.45760107e+00 -2.43789644e+00 -2.41819181e+00\n",
      " -2.39848718e+00 -2.37878255e+00 -2.35907792e+00 -2.33937329e+00\n",
      " -2.31966866e+00 -2.29996403e+00 -2.28025940e+00 -2.26055477e+00\n",
      " -2.24085014e+00 -2.22114551e+00 -2.20144088e+00 -2.18173625e+00\n",
      " -2.16203162e+00 -2.14232699e+00 -2.12262236e+00 -2.10291773e+00\n",
      " -2.08321310e+00 -2.06350847e+00 -2.04380384e+00 -2.02409922e+00\n",
      " -2.00439459e+00 -1.98468996e+00 -1.96498533e+00 -1.94528070e+00\n",
      " -1.92557607e+00 -1.90587144e+00 -1.88616681e+00 -1.86646218e+00\n",
      " -1.84675755e+00 -1.82705292e+00 -1.80734829e+00 -1.78764366e+00\n",
      " -1.76793903e+00 -1.74823440e+00 -1.72852977e+00 -1.70882514e+00\n",
      " -1.68912051e+00 -1.66941588e+00 -1.64971125e+00 -1.63000662e+00\n",
      " -1.61030199e+00 -1.59059736e+00 -1.57089273e+00 -1.55118810e+00\n",
      " -1.53148347e+00 -1.51177884e+00 -1.49207421e+00 -1.47236958e+00\n",
      " -1.45266495e+00 -1.43296032e+00 -1.41325569e+00 -1.39355106e+00\n",
      " -1.37384643e+00 -1.35414180e+00 -1.33443718e+00 -1.31473255e+00\n",
      " -1.29502792e+00 -1.27532329e+00 -1.25561866e+00 -1.23591403e+00\n",
      " -1.21620940e+00 -1.19650477e+00 -1.17680014e+00 -1.15709551e+00\n",
      " -1.13739088e+00 -1.11768625e+00 -1.09798162e+00 -1.07827699e+00\n",
      " -1.05857236e+00 -1.03886773e+00 -1.01916310e+00 -9.99458470e-01\n",
      " -9.79753840e-01 -9.60049210e-01 -9.40344581e-01 -9.20639951e-01\n",
      " -9.00935321e-01 -8.81230692e-01 -8.61526062e-01 -8.41821432e-01\n",
      " -8.22116802e-01 -8.02412173e-01 -7.82707543e-01 -7.63002913e-01\n",
      " -7.43298284e-01 -7.23593654e-01 -7.03889024e-01 -6.84184394e-01\n",
      " -6.64479765e-01 -6.44775135e-01 -6.25070505e-01 -6.05365875e-01\n",
      " -5.85661246e-01 -5.65956616e-01 -5.46251986e-01 -5.26547357e-01\n",
      " -5.06842727e-01 -4.87138097e-01 -4.67433467e-01 -4.47728838e-01\n",
      " -4.28024208e-01 -4.08319578e-01 -3.88614949e-01 -3.68910319e-01\n",
      " -3.49205689e-01 -3.29501059e-01 -3.09796430e-01 -2.90091800e-01\n",
      " -2.70387170e-01 -2.50682541e-01 -2.30977911e-01 -2.11273281e-01\n",
      " -1.91568651e-01 -1.71864022e-01 -1.52159392e-01 -1.32454762e-01\n",
      " -1.12750133e-01 -9.30455028e-02 -7.33408731e-02 -5.36362434e-02\n",
      " -3.39316137e-02 -1.42269840e-02  5.47764575e-03  2.51822755e-02\n",
      "  4.48869052e-02  6.45915349e-02  8.42961646e-02  1.04000794e-01\n",
      "  1.23705424e-01  1.43410054e-01  1.63114683e-01  1.82819313e-01\n",
      "  2.02523943e-01  2.22228573e-01  2.41933202e-01  2.61637832e-01\n",
      "  2.81342462e-01  3.01047092e-01  3.20751721e-01  3.40456351e-01\n",
      "  3.60160981e-01  3.79865610e-01  3.99570240e-01  4.19274870e-01\n",
      "  4.38979500e-01  4.58684129e-01  4.78388759e-01  4.98093389e-01\n",
      "  5.17798018e-01  5.37502648e-01  5.57207278e-01  5.76911908e-01\n",
      "  5.96616537e-01  6.16321167e-01  6.36025797e-01  6.55730426e-01\n",
      "  6.75435056e-01  6.95139686e-01  7.14844316e-01  7.34548945e-01\n",
      "  7.54253575e-01  7.73958205e-01  7.93662834e-01  8.13367464e-01\n",
      "  8.33072094e-01  8.52776724e-01  8.72481353e-01  8.92185983e-01\n",
      "  9.11890613e-01  9.31595242e-01  9.51299872e-01  9.71004502e-01\n",
      "  9.90709132e-01  1.01041376e+00  1.03011839e+00  1.04982302e+00\n",
      "  1.06952765e+00  1.08923228e+00  1.10893691e+00  1.12864154e+00\n",
      "  1.14834617e+00  1.16805080e+00  1.18775543e+00  1.20746006e+00\n",
      "  1.22716469e+00  1.24686932e+00  1.26657395e+00  1.28627858e+00\n",
      "  1.30598321e+00  1.32568784e+00  1.34539247e+00  1.36509710e+00\n",
      "  1.38480173e+00  1.40450636e+00  1.42421099e+00  1.44391562e+00\n",
      "  1.46362024e+00  1.48332487e+00  1.50302950e+00  1.52273413e+00\n",
      "  1.54243876e+00  1.56214339e+00  1.58184802e+00  1.60155265e+00\n",
      "  1.62125728e+00  1.64096191e+00  1.66066654e+00  1.68037117e+00\n",
      "  1.70007580e+00  1.71978043e+00  1.73948506e+00  1.75918969e+00\n",
      "  1.77889432e+00  1.79859895e+00  1.81830358e+00  1.83800821e+00\n",
      "  1.85771284e+00  1.87741747e+00  1.89712210e+00  1.91682673e+00\n",
      "  1.93653136e+00  1.95623599e+00  1.97594062e+00  1.99564525e+00\n",
      "  2.01534988e+00  2.03505451e+00  2.05475914e+00  2.07446377e+00\n",
      "  2.09416840e+00  2.11387303e+00  2.13357766e+00  2.15328228e+00\n",
      "  2.17298691e+00  2.19269154e+00  2.21239617e+00  2.23210080e+00\n",
      "  2.25180543e+00  2.27151006e+00  2.29121469e+00  2.31091932e+00\n",
      "  2.33062395e+00  2.35032858e+00  2.37003321e+00  2.38973784e+00\n",
      "  2.40944247e+00  2.42914710e+00  2.44885173e+00  2.46855636e+00\n",
      "  2.48826099e+00  2.50796562e+00  2.52767025e+00  2.54737488e+00\n",
      "  2.56707951e+00  2.58678414e+00  2.60648877e+00  2.62619340e+00\n",
      "  2.64589803e+00  2.66560266e+00  2.68530729e+00  2.70501192e+00\n",
      "  2.72471655e+00  2.74442118e+00  2.76412581e+00  2.78383044e+00\n",
      "  2.80353507e+00  2.82323970e+00  2.84294433e+00  2.86264895e+00\n",
      "  2.88235358e+00  2.90205821e+00  2.92176284e+00  2.94146747e+00\n",
      "  2.96117210e+00  2.98087673e+00  3.00058136e+00  3.02028599e+00\n",
      "  3.03999062e+00  3.05969525e+00  3.07939988e+00  3.09910451e+00\n",
      "  3.11880914e+00  3.13851377e+00  3.15821840e+00  3.17792303e+00\n",
      "  3.19762766e+00  3.21733229e+00  3.23703692e+00  3.25674155e+00\n",
      "  3.27644618e+00  3.29615081e+00  3.31585544e+00  3.33556007e+00\n",
      "  3.35526470e+00  3.37496933e+00  3.39467396e+00  3.41437859e+00\n",
      "  3.43408322e+00  3.45378785e+00  3.47349248e+00  3.49319711e+00\n",
      "  3.51290174e+00  3.53260637e+00  3.55231099e+00  3.57201562e+00\n",
      "  3.59172025e+00  3.61142488e+00  3.63112951e+00  3.65083414e+00\n",
      "  3.67053877e+00  3.69024340e+00  3.70994803e+00  3.72965266e+00\n",
      "  3.74935729e+00  3.76906192e+00  3.78876655e+00  3.80847118e+00\n",
      "  3.82817581e+00  3.84788044e+00  3.86758507e+00  3.88728970e+00\n",
      "  3.90699433e+00  3.92669896e+00  3.94640359e+00  3.96610822e+00\n",
      "  3.98581285e+00  4.00551748e+00  4.02522211e+00  4.04492674e+00\n",
      "  4.06463137e+00  4.08433600e+00  4.10404063e+00  4.12374526e+00\n",
      "  4.14344989e+00  4.16315452e+00  4.18285915e+00  4.20256378e+00\n",
      "  4.22226841e+00  4.24197303e+00  4.26167766e+00  4.28138229e+00\n",
      "  4.30108692e+00  4.32079155e+00  4.34049618e+00  4.36020081e+00\n",
      "  4.37990544e+00  4.39961007e+00  4.41931470e+00  4.43901933e+00\n",
      "  4.45872396e+00  4.47842859e+00  4.49813322e+00  4.51783785e+00\n",
      "  4.53754248e+00  4.55724711e+00  4.57695174e+00  4.59665637e+00\n",
      "  4.61636100e+00  4.63606563e+00  4.65577026e+00  4.67547489e+00\n",
      "  4.69517952e+00  4.71488415e+00  4.73458878e+00  4.75429341e+00\n",
      "  4.77399804e+00  4.79370267e+00  4.81340730e+00  4.83311193e+00\n",
      "  4.85281656e+00  4.87252119e+00  4.89222582e+00  4.91193045e+00\n",
      "  4.93163508e+00  4.95133970e+00  4.97104433e+00  4.99074896e+00\n",
      "  5.01045359e+00  5.03015822e+00  5.04986285e+00  5.06956748e+00\n",
      "  5.08927211e+00  5.10897674e+00  5.12868137e+00  5.14838600e+00\n",
      "  5.16809063e+00  5.18779526e+00  5.20749989e+00  5.22720452e+00\n",
      "  5.24690915e+00  5.26661378e+00  5.28631841e+00  5.30602304e+00\n",
      "  5.32572767e+00  5.34543230e+00  5.36513693e+00  5.38484156e+00\n",
      "  5.40454619e+00  5.42425082e+00  5.44395545e+00  5.46366008e+00\n",
      "  5.48336471e+00  5.50306934e+00  5.52277397e+00  5.54247860e+00\n",
      "  5.56218323e+00  5.58188786e+00  5.60159249e+00  5.62129712e+00\n",
      "  5.64100174e+00  5.66070637e+00  5.68041100e+00  5.70011563e+00\n",
      "  5.71982026e+00  5.73952489e+00  5.75922952e+00  5.77893415e+00\n",
      "  5.79863878e+00  5.81834341e+00  5.83804804e+00  5.85775267e+00\n",
      "  5.87745730e+00  5.89716193e+00  5.91686656e+00  5.93657119e+00\n",
      "  5.95627582e+00  5.97598045e+00  5.99568508e+00  6.01538971e+00\n",
      "  6.03509434e+00  6.05479897e+00  6.07450360e+00  6.09420823e+00\n",
      "  6.11391286e+00  6.13361749e+00  6.15332212e+00  6.17302675e+00\n",
      "  6.19273138e+00  6.21243601e+00  6.23214064e+00  6.25184527e+00\n",
      "  6.27154990e+00  6.29125453e+00  6.31095916e+00  6.33066379e+00\n",
      "  6.35036841e+00  6.37007304e+00  6.38977767e+00  6.40948230e+00\n",
      "  6.42918693e+00  6.44889156e+00  6.46859619e+00  6.48830082e+00\n",
      "  6.50800545e+00  6.52771008e+00  6.54741471e+00  6.56711934e+00\n",
      "  6.58682397e+00  6.60652860e+00  6.62623323e+00  6.64593786e+00\n",
      "  6.66564249e+00  6.68534712e+00  6.70505175e+00  6.72475638e+00\n",
      "  6.74446101e+00  6.76416564e+00  6.78387027e+00  6.80357490e+00\n",
      "  6.82327953e+00  6.84298416e+00  6.86268879e+00  6.88239342e+00\n",
      "  6.90209805e+00  6.92180268e+00  6.94150731e+00  6.96121194e+00\n",
      "  6.98091657e+00  7.00062120e+00  7.02032583e+00  7.04003045e+00\n",
      "  7.05973508e+00  7.07943971e+00  7.09914434e+00  7.11884897e+00\n",
      "  7.13855360e+00  7.15825823e+00  7.17796286e+00  7.19766749e+00\n",
      "  7.21737212e+00  7.23707675e+00  7.25678138e+00  7.27648601e+00\n",
      "  7.29619064e+00  7.31589527e+00  7.33559990e+00  7.35530453e+00\n",
      "  7.37500916e+00  7.39471379e+00  7.41441842e+00  7.43412305e+00\n",
      "  7.45382768e+00  7.47353231e+00  7.49323694e+00  7.51294157e+00\n",
      "  7.53264620e+00  7.55235083e+00  7.57205546e+00  7.59176009e+00\n",
      "  7.61146472e+00  7.63116935e+00  7.65087398e+00  7.67057861e+00\n",
      "  7.69028324e+00  7.70998787e+00  7.72969249e+00  7.74939712e+00\n",
      "  7.76910175e+00  7.78880638e+00  7.80851101e+00  7.82821564e+00\n",
      "  7.84792027e+00  7.86762490e+00  7.88732953e+00  7.90703416e+00\n",
      "  7.92673879e+00  7.94644342e+00  7.96614805e+00  7.98585268e+00\n",
      "  8.00555731e+00  8.02526194e+00  8.04496657e+00  8.06467120e+00\n",
      "  8.08437583e+00  8.10408046e+00  8.12378509e+00  8.14348972e+00\n",
      "  8.16319435e+00  8.18289898e+00  8.20260361e+00  8.22230824e+00\n",
      "  8.24201287e+00  8.26171750e+00  8.28142213e+00  8.30112676e+00\n",
      "  8.32083139e+00  8.34053602e+00  8.36024065e+00  8.37994528e+00\n",
      "  8.39964991e+00  8.41935454e+00  8.43905916e+00  8.45876379e+00\n",
      "  8.47846842e+00  8.49817305e+00  8.51787768e+00  8.53758231e+00\n",
      "  8.55728694e+00  8.57699157e+00  8.59669620e+00  8.61640083e+00\n",
      "  8.63610546e+00  8.65581009e+00  8.67551472e+00  8.69521935e+00\n",
      "  8.71492398e+00  8.73462861e+00  8.75433324e+00  8.77403787e+00\n",
      "  8.79374250e+00  8.81344713e+00  8.83315176e+00  8.85285639e+00\n",
      "  8.87256102e+00  8.89226565e+00  8.91197028e+00  8.93167491e+00\n",
      "  8.95137954e+00  8.97108417e+00  8.99078880e+00  9.01049343e+00\n",
      "  9.03019806e+00  9.04990269e+00  9.06960732e+00  9.08931195e+00\n",
      "  9.10901658e+00  9.12872120e+00  9.14842583e+00  9.16813046e+00\n",
      "  9.18783509e+00  9.20753972e+00  9.22724435e+00  9.24694898e+00\n",
      "  9.26665361e+00  9.28635824e+00  9.30606287e+00  9.32576750e+00\n",
      "  9.34547213e+00  9.36517676e+00  9.38488139e+00  9.40458602e+00\n",
      "  9.42429065e+00  9.44399528e+00  9.46369991e+00  9.48340454e+00\n",
      "  9.50310917e+00  9.52281380e+00  9.54251843e+00  9.56222306e+00\n",
      "  9.58192769e+00  9.60163232e+00  9.62133695e+00  9.64104158e+00\n",
      "  9.66074621e+00  9.68045084e+00  9.70015547e+00  9.71986010e+00\n",
      "  9.73956473e+00  9.75926936e+00  9.77897399e+00  9.79867862e+00\n",
      "  9.81838325e+00  9.83808787e+00  9.85779250e+00  9.87749713e+00\n",
      "  9.89720176e+00  9.91690639e+00  9.93661102e+00  9.95631565e+00\n",
      "  9.97602028e+00  9.99572491e+00  1.00154295e+01  1.00351342e+01\n",
      "  1.00548388e+01  1.00745434e+01  1.00942481e+01  1.01139527e+01\n",
      "  1.01336573e+01  1.01533620e+01  1.01730666e+01  1.01927712e+01\n",
      "  1.02124758e+01  1.02321805e+01  1.02518851e+01  1.02715897e+01\n",
      "  1.02912944e+01  1.03109990e+01  1.03307036e+01  1.03504082e+01\n",
      "  1.03701129e+01  1.03898175e+01  1.04095221e+01  1.04292268e+01\n",
      "  1.04489314e+01  1.04686360e+01  1.04883407e+01  1.05080453e+01\n",
      "  1.05277499e+01  1.05474545e+01  1.05671592e+01  1.05868638e+01\n",
      "  1.06065684e+01  1.06262731e+01  1.06459777e+01  1.06656823e+01\n",
      "  1.06853870e+01  1.07050916e+01  1.07247962e+01  1.07445008e+01\n",
      "  1.07642055e+01  1.07839101e+01  1.08036147e+01  1.08233194e+01\n",
      "  1.08430240e+01  1.08627286e+01  1.08824332e+01  1.09021379e+01\n",
      "  1.09218425e+01  1.09415471e+01  1.09612518e+01  1.09809564e+01\n",
      "  1.10006610e+01  1.10203657e+01  1.10400703e+01  1.10597749e+01\n",
      "  1.10794795e+01  1.10991842e+01  1.11188888e+01  1.11385934e+01\n",
      "  1.11582981e+01  1.11780027e+01  1.11977073e+01  1.12174120e+01\n",
      "  1.12371166e+01  1.12568212e+01  1.12765258e+01  1.12962305e+01\n",
      "  1.13159351e+01  1.13356397e+01  1.13553444e+01  1.13750490e+01\n",
      "  1.13947536e+01  1.14144583e+01  1.14341629e+01  1.14538675e+01\n",
      "  1.14735721e+01  1.14932768e+01  1.15129814e+01  1.15326860e+01\n",
      "  1.15523907e+01  1.15720953e+01  1.15917999e+01  1.16115045e+01\n",
      "  1.16312092e+01  1.16509138e+01  1.16706184e+01  1.16903231e+01\n",
      "  1.17100277e+01  1.17297323e+01  1.17494370e+01  1.17691416e+01\n",
      "  1.17888462e+01  1.18085508e+01  1.18282555e+01  1.18479601e+01\n",
      "  1.18676647e+01  1.18873694e+01  1.19070740e+01  1.19267786e+01\n",
      "  1.19464833e+01  1.19661879e+01  1.19858925e+01  1.20055971e+01\n",
      "  1.20253018e+01  1.20450064e+01  1.20647110e+01  1.20844157e+01\n",
      "  1.21041203e+01  1.21238249e+01  1.21435296e+01  1.21632342e+01\n",
      "  1.21829388e+01  1.22026434e+01  1.22223481e+01  1.22420527e+01\n",
      "  1.22617573e+01  1.22814620e+01  1.23011666e+01  1.23208712e+01\n",
      "  1.23405758e+01  1.23602805e+01  1.23799851e+01  1.23996897e+01\n",
      "  1.24193944e+01  1.24390990e+01  1.24588036e+01  1.24785083e+01\n",
      "  1.24982129e+01  1.25179175e+01  1.25376221e+01  1.25573268e+01\n",
      "  1.25770314e+01  1.25967360e+01  1.26164407e+01  1.26361453e+01\n",
      "  1.26558499e+01  1.26755546e+01  1.26952592e+01  1.27149638e+01\n",
      "  1.27346684e+01  1.27543731e+01  1.27740777e+01  1.27937823e+01\n",
      "  1.28134870e+01  1.28331916e+01  1.28528962e+01  1.28726009e+01\n",
      "  1.28923055e+01  1.29120101e+01  1.29317147e+01  1.29514194e+01\n",
      "  1.29711240e+01  1.29908286e+01  1.30105333e+01  1.30302379e+01\n",
      "  1.30499425e+01  1.30696471e+01  1.30893518e+01  1.31090564e+01\n",
      "  1.31287610e+01  1.31484657e+01  1.31681703e+01  1.31878749e+01\n",
      "  1.32075796e+01  1.32272842e+01  1.32469888e+01  1.32666934e+01\n",
      "  1.32863981e+01  1.33061027e+01  1.33258073e+01  1.33455120e+01\n",
      "  1.33652166e+01  1.33849212e+01  1.34046259e+01  1.34243305e+01\n",
      "  1.34440351e+01  1.34637397e+01  1.34834444e+01  1.35031490e+01\n",
      "  1.35228536e+01  1.35425583e+01  1.35622629e+01  1.35819675e+01\n",
      "  1.36016722e+01  1.36213768e+01  1.36410814e+01  1.36607860e+01\n",
      "  1.36804907e+01  1.37001953e+01  1.37198999e+01  1.37396046e+01\n",
      "  1.37593092e+01  1.37790138e+01  1.37987184e+01  1.38184231e+01\n",
      "  1.38381277e+01  1.38578323e+01  1.38775370e+01  1.38972416e+01\n",
      "  1.39169462e+01  1.39366509e+01  1.39563555e+01  1.39760601e+01\n",
      "  1.39957647e+01  1.40154694e+01  1.40351740e+01  1.40548786e+01\n",
      "  1.40745833e+01  1.40942879e+01  1.41139925e+01  1.41336972e+01\n",
      "  1.41534018e+01  1.41731064e+01  1.41928110e+01  1.42125157e+01\n",
      "  1.42322203e+01  1.42519249e+01  1.42716296e+01  1.42913342e+01\n",
      "  1.43110388e+01  1.43307435e+01  1.43504481e+01  1.43701527e+01\n",
      "  1.43898573e+01  1.44095620e+01  1.44292666e+01  1.44489712e+01\n",
      "  1.44686759e+01  1.44883805e+01  1.45080851e+01  1.45277897e+01\n",
      "  1.45474944e+01  1.45671990e+01  1.45869036e+01  1.46066083e+01\n",
      "  1.46263129e+01  1.46460175e+01  1.46657222e+01  1.46854268e+01\n",
      "  1.47051314e+01  1.47248360e+01  1.47445407e+01  1.47642453e+01\n",
      "  1.47839499e+01  1.48036546e+01  1.48233592e+01  1.48430638e+01\n",
      "  1.48627685e+01  1.48824731e+01  1.49021777e+01  1.49218823e+01]\n",
      "(80, 1) (20, 1)\n",
      "Score: 0.97\n",
      "Score: 0.97\n"
     ]
    },
    {
     "data": {
      "image/png": "[encoded data removed]",
      "text/plain": [
       "<Figure size 432x288 with 1 Axes>"
      ]
     },
     "metadata": {
      "needs_background": "light"
     },
     "output_type": "display_data"
    }
   ],
   "source": [
    "import matplotlib.pyplot as plt\n",
    "import numpy as np\n",
    "np.random.seed(1)\n",
    "x = 10 * np.random.rand(100)\n",
    "y = 2 * x - 5 + np.random.randn(100) \n",
    "plt.scatter(x, y)\n",
    "plt.show()\n",
    "from sklearn.linear_model import LinearRegression\n",
    "model = LinearRegression()\n",
    "model.fit(x[ :, np.newaxis], y)\n",
    "xfit = np.linspace(0, 10, 1000)\n",
    "yfit = model.predict(xfit[:, np.newaxis])\n",
    "plt.scatter(x, y)\n",
    "plt.plot(xfit, yfit)\n",
    "print(xfit)\n",
    "print(yfit)\n",
    "from sklearn.model_selection import train_test_split\n",
    "Xtrain, Xtest, ytrain, ytest = train_test_split(x[:, np.newaxis], y, random_state=2, test_size = 0.2)\n",
    "print(Xtrain.shape, Xtest.shape)\n",
    "model.fit(Xtrain, ytrain)\n",
    "model.score(Xtrain, ytrain)\n",
    "from sklearn.model_selection import cross_val_score\n",
    "lr_cv = LinearRegression() \n",
    "scores_cv3 = cross_val_score (lr_cv, Xtrain, ytrain, cv=3)\n",
    "scores_cv3\n",
    "print(\"Score: %0.2f\" % scores_cv3.mean())\n",
    "scores_cv5 = cross_val_score (lr_cv, Xtrain, ytrain, cv=5)\n",
    "scores_cv5\n",
    "print(\"Score: %0.2f\" % scores_cv5.mean())"
   ]
  },
  {
   "cell_type": "code",
   "execution_count": 5,
   "metadata": {},
   "outputs": [
    {
     "name": "stdout",
     "output_type": "stream",
     "text": [
      "[0.33150734 0.08022311 0.03531764]\n"
     ]
    }
   ],
   "source": [
    "import numpy as np\n",
    "from sklearn import datasets, linear_model\n",
    "from sklearn.model_selection import cross_val_score\n",
    "diabetes = datasets.load_diabetes()\n",
    "X = diabetes.data[:150]\n",
    "y = diabetes.target[:150]\n",
    "lasso = linear_model.Lasso()\n",
    "print(cross_val_score(lasso, X, y, cv=3))"
   ]
  },
  {
   "cell_type": "code",
   "execution_count": 19,
   "metadata": {},
   "outputs": [
    {
     "name": "stdout",
     "output_type": "stream",
     "text": [
      "[3 4 5] [0 1 2]\n",
      "[0 1 2] [3 4 5]\n",
      "[0 3 4] [1 2 5]\n",
      "[1 2 5] [0 3 4]\n"
     ]
    }
   ],
   "source": [
    "import matplotlib.pyplot as plt\n",
    "import numpy as np\n",
    "from sklearn.model_selection import KFold\n",
    "X = ['a', 'b', 'c', 'd', 'e', 'f']\n",
    "kf = KFold (n_splits=2)\n",
    "for train, test in kf.split(X):\\\n",
    "print(train, test)\n",
    "kf = KFold (n_splits=2, shuffle=True, random_state = 0)\n",
    "for train, test in kf.split(X):\\\n",
    "print (train, test)\n"
   ]
  },
  {
   "cell_type": "code",
   "execution_count": 24,
   "metadata": {},
   "outputs": [
    {
     "name": "stdout",
     "output_type": "stream",
     "text": [
      "0.5996811613955806\n",
      "0.6259566229450207\n"
     ]
    },
    {
     "data": {
      "text/plain": [
       "array([[ 1.,  2.,  4.,  8.],\n",
       "       [ 1.,  3.,  9., 27.],\n",
       "       [ 1.,  4., 16., 64.]])"
      ]
     },
     "execution_count": 24,
     "metadata": {},
     "output_type": "execute_result"
    }
   ],
   "source": [
    "#Regression metrics\n",
    "from sklearn.metrics import mean_absolute_error\n",
    "from sklearn.metrics import mean_squared_error\n",
    "ytest_pred=model.predict(Xtest)\n",
    "print(mean_absolute_error(ytest, ytest_pred))\n",
    "print(mean_squared_error(ytest, ytest_pred))\n",
    "#Basis Functions for Regression \n",
    "from sklearn.preprocessing import PolynomialFeatures\n",
    "x=np.array([2,3,4]). reshape(3,1)\n",
    "poly=PolynomialFeatures(3)\n",
    "poly.fit_transform(x)\n"
   ]
  },
  {
   "cell_type": "code",
   "execution_count": 36,
   "metadata": {},
   "outputs": [
    {
     "name": "stdout",
     "output_type": "stream",
     "text": [
      "R^2 train: 0.980829340070517\n",
      "R^2 train: 0.7829232978046512\n"
     ]
    },
    {
     "data": {
      "text/plain": [
       "[<matplotlib.lines.Line2D at 0x7fb5cbef3c50>]"
      ]
     },
     "execution_count": 36,
     "metadata": {},
     "output_type": "execute_result"
    },
    {
     "data": {
      "image/png": "[encoded data removed]",
      "text/plain": [
       "<Figure size 432x288 with 1 Axes>"
      ]
     },
     "metadata": {
      "needs_background": "light"
     },
     "output_type": "display_data"
    }
   ],
   "source": [
    "x=np.array([1,2,3,4]). reshape(2,2)\n",
    "poly=PolynomialFeatures(2)\n",
    "poly.fit_transform(x)\n",
    "#make_pipeline\n",
    "from sklearn.pipeline import make_pipeline \n",
    "poly_model=make_pipeline (PolynomialFeatures(7), LinearRegression())\n",
    "np.random.seed(1)\n",
    "x = 10 * np.random.rand(50)\n",
    "y = np.sin(x) + 0.1 * np.random.randn(50)\n",
    "plt.scatter(x, y)\n",
    "Xtrain, Xtest, ytrain, ytest = train_test_split(x[:, np.newaxis], y, random_state=1, test_size = 0.2)\n",
    "poly_model.fit(Xtrain, ytrain)\n",
    "print(\"R^2 train:\", poly_model.score(Xtrain, ytrain))\n",
    "print(\"R^2 train:\",poly_model.score(Xtest, ytest))\n",
    "xfit = np.linspace(0, 10, 1000)\n",
    "yfit = poly_model.predict(xfit[:, np.newaxis])\n",
    "plt.plot(xfit, yfit)\n",
    "\n",
    "\n"
   ]
  },
  {
   "cell_type": "code",
   "execution_count": 51,
   "metadata": {},
   "outputs": [
    {
     "name": "stdout",
     "output_type": "stream",
     "text": [
      "R^2 train: 0.9873317436783126\n",
      "R^2 test: 0.55941400744893\n"
     ]
    },
    {
     "data": {
      "text/plain": [
       "(-1.5, 1.5)"
      ]
     },
     "execution_count": 51,
     "metadata": {},
     "output_type": "execute_result"
    },
    {
     "data": {
      "image/png": "[encoded data removed]",
      "text/plain": [
       "<Figure size 432x288 with 1 Axes>"
      ]
     },
     "metadata": {
      "needs_background": "light"
     },
     "output_type": "display_data"
    }
   ],
   "source": [
    "#Ridge regression \n",
    "from sklearn.linear_model import Ridge\n",
    "model=make_pipeline (PolynomialFeatures (16), Ridge(alpha=1)) \n",
    "plt.scatter (x,y)\n",
    "model.fit (Xtrain, ytrain)\n",
    "print(\"R^2 train:\", model.score(Xtrain, ytrain))\n",
    "print(\"R^2 test:\", model.score(Xtest, ytest))\n",
    "yfit = model.predict(xfit[:, np.newaxis])\n",
    "plt.plot(xfit, yfit)\n",
    "plt.ylim(-1.5, 1.5)\n",
    "\n",
    "    \n",
    "  \n",
    "\n"
   ]
  },
  {
   "cell_type": "code",
   "execution_count": 50,
   "metadata": {},
   "outputs": [
    {
     "name": "stdout",
     "output_type": "stream",
     "text": [
      "R^2 train: 0.861536590672082\n",
      "R^2 test: -0.7410468166846742\n"
     ]
    },
    {
     "data": {
      "text/plain": [
       "(-1.0, 5.0)"
      ]
     },
     "execution_count": 50,
     "metadata": {},
     "output_type": "execute_result"
    },
    {
     "data": {
      "image/png": "[encoded data removed]",
      "text/plain": [
       "<Figure size 432x288 with 1 Axes>"
      ]
     },
     "metadata": {
      "needs_background": "light"
     },
     "output_type": "display_data"
    }
   ],
   "source": [
    "#Lasso Regression \n",
    "from sklearn.linear_model import Lasso\n",
    "model=make_pipeline (PolynomialFeatures(16), Lasso(alpha=0.1, tol=0.1, max_iter=1000000, random_state=1))\n",
    "plt.scatter(x,y)\n",
    "model.fit(Xtrain, ytrain)\n",
    "print(\"R^2 train:\", model.score(Xtrain, ytrain))\n",
    "print(\"R^2 test:\", model. score(Xtest, ytest))\n",
    "yfit = model.predict (xfit[:, np.newaxis])\n",
    "plt.plot (xfit, yfit)\n",
    "plt.ylim (-1,5, 1.5)\n"
   ]
  },
  {
   "cell_type": "code",
   "execution_count": 46,
   "metadata": {},
   "outputs": [
    {
     "name": "stdout",
     "output_type": "stream",
     "text": [
      "R^2 train: 0.861536590672082\n",
      "R^2 test: -0.7410468166846742\n"
     ]
    },
    {
     "data": {
      "text/plain": [
       "(-1.5, 1.5)"
      ]
     },
     "execution_count": 46,
     "metadata": {},
     "output_type": "execute_result"
    },
    {
     "data": {
      "image/png": "[encoded data removed]",
      "text/plain": [
       "<Figure size 432x288 with 1 Axes>"
      ]
     },
     "metadata": {
      "needs_background": "light"
     },
     "output_type": "display_data"
    }
   ],
   "source": [
    "from sklearn.linear_model import Lasso\n",
    "model = make_pipeline(PolynomialFeatures(16), Lasso(alpha=0.1, tol=0.1, max_iter=1000000, random_state=1))\n",
    "plt.scatter(x, y)\n",
    "model.fit(Xtrain, ytrain)\n",
    "print(\"R^2 train:\", model.score(Xtrain, ytrain))\n",
    "print(\"R^2 test:\", model.score(Xtest, ytest))\n",
    "yfit = model.predict(xfit[:, np.newaxis])\n",
    "plt.plot(xfit, yfit)\n",
    "plt.ylim(-1.5, 1.5)"
   ]
  },
  {
   "cell_type": "code",
   "execution_count": 55,
   "metadata": {},
   "outputs": [
    {
     "name": "stderr",
     "output_type": "stream",
     "text": [
      "/home/olga/.local/lib/python3.6/site-packages/sklearn/utils/validation.py:72: FutureWarning: Pass param_name=polynomialfeatures__degree, param_range=[ 0  1  2  3  4  5  6  7  8  9 10 11 12 13 14 15 16 17 18 19 20 21 22 23\n",
      " 24] as keyword args. From version 1.0 (renaming of 0.25) passing these as positional arguments will result in an error\n",
      "  \"will result in an error\", FutureWarning)\n"
     ]
    },
    {
     "name": "stdout",
     "output_type": "stream",
     "text": [
      "(25, 5)\n",
      "[[0.00000000e+00 0.00000000e+00 0.00000000e+00 0.00000000e+00\n",
      "  0.00000000e+00]\n",
      " [3.29795129e-03 1.53228759e-03 7.33473446e-03 1.01875809e-02\n",
      "  5.71388154e-04]\n",
      " [7.11543975e-02 8.15350974e-02 1.30376011e-01 1.41969628e-01\n",
      "  1.49921460e-01]\n",
      " [1.97769486e-01 1.75550943e-01 1.64310719e-01 1.81805510e-01\n",
      "  1.70642985e-01]\n",
      " [8.48738636e-01 8.76477513e-01 8.74818394e-01 8.78095035e-01\n",
      "  8.89765363e-01]]\n",
      "(25, 5)\n",
      "[[-0.12870316 -0.00349782 -0.67861429 -0.01280816 -0.01577095]\n",
      " [-0.12953372  0.00320043 -0.77633049 -0.04481235 -0.00540179]\n",
      " [ 0.08813738  0.19106869 -0.6652342  -0.03189693 -0.14951873]\n",
      " [-0.05309076  0.124367   -0.30151812  0.08201262  0.05386575]\n",
      " [ 0.9051348   0.84816795  0.68417784  0.83310873  0.6968646 ]]\n"
     ]
    },
    {
     "data": {
      "text/plain": [
       "Text(0, 0.5, 'score')"
      ]
     },
     "execution_count": 55,
     "metadata": {},
     "output_type": "execute_result"
    },
    {
     "data": {
      "image/png": "[encoded data removed]",
      "text/plain": [
       "<Figure size 432x288 with 1 Axes>"
      ]
     },
     "metadata": {
      "needs_background": "light"
     },
     "output_type": "display_data"
    },
    {
     "data": {
      "image/png": "[encoded data removed]",
      "text/plain": [
       "<Figure size 864x288 with 1 Axes>"
      ]
     },
     "metadata": {
      "needs_background": "light"
     },
     "output_type": "display_data"
    }
   ],
   "source": [
    "#Model validation \n",
    "import matplotlib.pyplot as plt\n",
    "import numpy as np \n",
    "from sklearn.preprocessing import PolynomialFeatures\n",
    "from sklearn.linear_model import LinearRegression \n",
    "from sklearn.pipeline import make_pipeline \n",
    "from sklearn.model_selection import train_test_split\n",
    "np.random.seed(1)\n",
    "x=10*np.random.rand(50)\n",
    "y=np.sin(x)+ 0.1* np.random.randn(50)\n",
    "plt.scatter(x,y)\n",
    "poly_model = make_pipeline(PolynomialFeatures(), LinearRegression())\n",
    "poly_model.named_steps\n",
    "poly_model = make_pipeline(PolynomialFeatures(degree = 20), LinearRegression())\n",
    "Xtrain, Xtest, ytrain, ytest=train_test_split(x[:, np.newaxis], y, random_state=2)\n",
    "poly_model.fit(Xtrain, ytrain)\n",
    "ytrain_pred = poly_model.predict(Xtrain)\n",
    "ytest_pred = poly_model.predict(Xtest)\n",
    "plt.scatter(Xtrain,ytrain)\n",
    "plt.scatter(Xtrain, ytrain_pred)\n",
    "from sklearn.model_selection import validation_curve\n",
    "degree = np.arange(0, 25)\n",
    "train_score, val_score = validation_curve(poly_model, x[:, np.newaxis], y,\n",
    "                                           'polynomialfeatures__degree', degree, cv=5)\n",
    "print(train_score.shape)\n",
    "print(train_score[0:5,])\n",
    "print(val_score.shape)\n",
    "print(val_score[0:5,])\n",
    "plt.figure(figsize=(12,4))\n",
    "plt.plot(degree, np.median(train_score, 1), color='blue', label='training score')\n",
    "plt.plot(degree, np.median(val_score, 1), color='red', label='validation score')\n",
    "plt.xticks(degree)\n",
    "plt.legend(loc='best')\n",
    "plt.ylim(0, 1)\n",
    "plt.xlabel('degree')\n",
    "plt.ylabel('score')\n",
    "\n",
    "\n"
   ]
  },
  {
   "cell_type": "code",
   "execution_count": 17,
   "metadata": {},
   "outputs": [
    {
     "data": {
      "text/plain": [
       "{'mean_fit_time': array([0.00323672, 0.00301538, 0.00321851, 0.00197716, 0.00133042,\n",
       "        0.0010788 , 0.00108819, 0.00112519, 0.00107303, 0.00107164,\n",
       "        0.0010489 , 0.00105753, 0.00103774, 0.00080881, 0.00082092,\n",
       "        0.00082269, 0.00083661, 0.00085444, 0.00086551, 0.00084844,\n",
       "        0.00088191, 0.00086279, 0.00087786, 0.00088639, 0.00090961,\n",
       "        0.00091128]),\n",
       " 'std_fit_time': array([1.33261902e-04, 7.45614759e-05, 4.03148675e-04, 5.10726664e-04,\n",
       "        2.97754143e-04, 2.64592638e-05, 3.43449887e-05, 1.95663665e-05,\n",
       "        2.16379014e-05, 5.20036777e-06, 5.79626900e-06, 1.00787630e-05,\n",
       "        5.11484263e-06, 4.93843097e-06, 2.75329590e-06, 1.14138522e-05,\n",
       "        1.55977509e-06, 3.06217086e-06, 1.73016340e-05, 1.37165091e-05,\n",
       "        1.06282285e-05, 1.72190381e-06, 6.07850494e-06, 5.52678745e-06,\n",
       "        1.45871649e-05, 3.93036481e-06]),\n",
       " 'mean_score_time': array([0.00150757, 0.00133696, 0.00153704, 0.00093122, 0.00063891,\n",
       "        0.00051947, 0.00049505, 0.00051703, 0.00048752, 0.00048957,\n",
       "        0.00047383, 0.00047851, 0.00046549, 0.00041375, 0.00041919,\n",
       "        0.0004281 , 0.00042868, 0.00043168, 0.0004457 , 0.00043344,\n",
       "        0.00043592, 0.00043287, 0.00043654, 0.00043964, 0.0004436 ,\n",
       "        0.00044894]),\n",
       " 'std_score_time': array([3.56855831e-05, 3.22796569e-05, 2.92925898e-04, 2.22342852e-04,\n",
       "        2.06126087e-04, 4.84322917e-05, 4.82666622e-06, 2.06688970e-05,\n",
       "        9.17140216e-06, 4.08134726e-06, 2.63169188e-06, 7.63684148e-06,\n",
       "        2.57933203e-06, 1.64214853e-06, 8.22927551e-06, 6.16320097e-06,\n",
       "        1.27057196e-06, 1.09361123e-06, 8.21018878e-06, 1.30778622e-05,\n",
       "        7.17572592e-06, 3.50921049e-06, 1.80317596e-06, 1.67233256e-06,\n",
       "        3.25718524e-06, 2.28185389e-06]),\n",
       " 'param_linearregression__normalize': masked_array(data=[True, True, True, True, True, True, True, True, True,\n",
       "                    True, True, True, True, False, False, False, False,\n",
       "                    False, False, False, False, False, False, False, False,\n",
       "                    False],\n",
       "              mask=[False, False, False, False, False, False, False, False,\n",
       "                    False, False, False, False, False, False, False, False,\n",
       "                    False, False, False, False, False, False, False, False,\n",
       "                    False, False],\n",
       "        fill_value='?',\n",
       "             dtype=object),\n",
       " 'param_polynomialfeatures__degree': masked_array(data=[4, 5, 6, 7, 8, 9, 10, 11, 12, 13, 14, 15, 16, 4, 5, 6,\n",
       "                    7, 8, 9, 10, 11, 12, 13, 14, 15, 16],\n",
       "              mask=[False, False, False, False, False, False, False, False,\n",
       "                    False, False, False, False, False, False, False, False,\n",
       "                    False, False, False, False, False, False, False, False,\n",
       "                    False, False],\n",
       "        fill_value='?',\n",
       "             dtype=object),\n",
       " 'params': [{'linearregression__normalize': True,\n",
       "   'polynomialfeatures__degree': 4},\n",
       "  {'linearregression__normalize': True, 'polynomialfeatures__degree': 5},\n",
       "  {'linearregression__normalize': True, 'polynomialfeatures__degree': 6},\n",
       "  {'linearregression__normalize': True, 'polynomialfeatures__degree': 7},\n",
       "  {'linearregression__normalize': True, 'polynomialfeatures__degree': 8},\n",
       "  {'linearregression__normalize': True, 'polynomialfeatures__degree': 9},\n",
       "  {'linearregression__normalize': True, 'polynomialfeatures__degree': 10},\n",
       "  {'linearregression__normalize': True, 'polynomialfeatures__degree': 11},\n",
       "  {'linearregression__normalize': True, 'polynomialfeatures__degree': 12},\n",
       "  {'linearregression__normalize': True, 'polynomialfeatures__degree': 13},\n",
       "  {'linearregression__normalize': True, 'polynomialfeatures__degree': 14},\n",
       "  {'linearregression__normalize': True, 'polynomialfeatures__degree': 15},\n",
       "  {'linearregression__normalize': True, 'polynomialfeatures__degree': 16},\n",
       "  {'linearregression__normalize': False, 'polynomialfeatures__degree': 4},\n",
       "  {'linearregression__normalize': False, 'polynomialfeatures__degree': 5},\n",
       "  {'linearregression__normalize': False, 'polynomialfeatures__degree': 6},\n",
       "  {'linearregression__normalize': False, 'polynomialfeatures__degree': 7},\n",
       "  {'linearregression__normalize': False, 'polynomialfeatures__degree': 8},\n",
       "  {'linearregression__normalize': False, 'polynomialfeatures__degree': 9},\n",
       "  {'linearregression__normalize': False, 'polynomialfeatures__degree': 10},\n",
       "  {'linearregression__normalize': False, 'polynomialfeatures__degree': 11},\n",
       "  {'linearregression__normalize': False, 'polynomialfeatures__degree': 12},\n",
       "  {'linearregression__normalize': False, 'polynomialfeatures__degree': 13},\n",
       "  {'linearregression__normalize': False, 'polynomialfeatures__degree': 14},\n",
       "  {'linearregression__normalize': False, 'polynomialfeatures__degree': 15},\n",
       "  {'linearregression__normalize': False, 'polynomialfeatures__degree': 16}],\n",
       " 'split0_test_score': array([  0.87342346,   0.68382818,   0.97053604,   0.90682339,\n",
       "          0.98231063,   0.96658718,   0.78159833,   0.97409938,\n",
       "          0.46731072,   0.36043225,  -0.62967352, -19.13178387,\n",
       "         -0.46585002,   0.87342346,   0.68382818,   0.97053604,\n",
       "          0.90682339,   0.98231063,   0.96658716,   0.78159651,\n",
       "          0.97407094,   0.46865047,   0.97663354,   0.96989358,\n",
       "          0.94564858,   0.71239619]),\n",
       " 'split1_test_score': array([0.91487528, 0.8833974 , 0.97600225, 0.96632492, 0.97973172,\n",
       "        0.97947186, 0.98252652, 0.98395551, 0.98346373, 0.97956971,\n",
       "        0.97718273, 0.9775715 , 0.97497497, 0.91487528, 0.8833974 ,\n",
       "        0.97600225, 0.96632492, 0.97973172, 0.97947186, 0.98252652,\n",
       "        0.98395534, 0.98346362, 0.9795648 , 0.98452858, 0.97507315,\n",
       "        0.96544215]),\n",
       " 'split2_test_score': array([0.80516374, 0.88892542, 0.94173667, 0.94586857, 0.97827156,\n",
       "        0.97803529, 0.98717966, 0.99006972, 0.9899526 , 0.99036905,\n",
       "        0.99096522, 0.98048982, 0.98039139, 0.80516374, 0.88892542,\n",
       "        0.94173667, 0.94586857, 0.97827156, 0.9780353 , 0.98717966,\n",
       "        0.99006959, 0.98994725, 0.99037024, 0.98980961, 0.98812099,\n",
       "        0.95761786]),\n",
       " 'split3_test_score': array([0.64002569, 0.80390151, 0.95275979, 0.96690273, 0.89032108,\n",
       "        0.74468393, 0.92399519, 0.96215522, 0.93295463, 0.9408537 ,\n",
       "        0.90374666, 0.00528218, 0.76192569, 0.64002569, 0.80390151,\n",
       "        0.95275979, 0.96690273, 0.8903211 , 0.744684  , 0.92399502,\n",
       "        0.96215586, 0.93295871, 0.94078638, 0.94351488, 0.75727553,\n",
       "        0.5234309 ]),\n",
       " 'split4_test_score': array([0.85909015, 0.86455487, 0.97388149, 0.97273247, 0.97869804,\n",
       "        0.97978063, 0.98632245, 0.98866053, 0.98598372, 0.98899869,\n",
       "        0.98567453, 0.98782369, 0.98756657, 0.85909015, 0.86455487,\n",
       "        0.97388149, 0.97273247, 0.97869804, 0.97978064, 0.98632248,\n",
       "        0.98866018, 0.98598516, 0.98899255, 0.9885126 , 0.98816689,\n",
       "        0.93656381]),\n",
       " 'mean_test_score': array([ 0.81851566,  0.82492147,  0.96298325,  0.95173042,  0.96186661,\n",
       "         0.92971178,  0.93232443,  0.97978807,  0.87193308,  0.85204468,\n",
       "         0.64557912, -3.23612334,  0.64780172,  0.81851566,  0.82492147,\n",
       "         0.96298325,  0.95173042,  0.96186661,  0.92971179,  0.93232404,\n",
       "         0.97978238,  0.87220104,  0.9752695 ,  0.97525185,  0.93085703,\n",
       "         0.81909019]),\n",
       " 'std_test_score': array([0.09589919, 0.07672796, 0.0134257 , 0.02422927, 0.03580028,\n",
       "        0.09264256, 0.07903526, 0.01044106, 0.20338049, 0.24646399,\n",
       "        0.63841009, 7.95682741, 0.56326599, 0.09589919, 0.07672796,\n",
       "        0.0134257 , 0.02422927, 0.03580028, 0.09264253, 0.07903597,\n",
       "        0.01044385, 0.20284719, 0.01803192, 0.01737688, 0.08816799,\n",
       "        0.17504679]),\n",
       " 'rank_test_score': array([22, 20,  5, 10,  8, 15, 11,  1, 17, 18, 25, 26, 24, 23, 19,  6,  9,\n",
       "         7, 14, 12,  2, 16,  3,  4, 13, 21], dtype=int32)}"
      ]
     },
     "execution_count": 17,
     "metadata": {},
     "output_type": "execute_result"
    }
   ],
   "source": [
    "#Validation Grid Search\n",
    "from sklearn.model_selection import GridSearchCV\n",
    "from sklearn.model_selection import KFold\n",
    "param_grid = {'polynomialfeatures__degree': np.arange(4,17),'linearregression__normalize': [True, False]}\n",
    "grid = GridSearchCV(poly_model, param_grid, cv=5)\n",
    "cv = KFold(n_splits=5, shuffle=True, random_state=0)\n",
    "grid = GridSearchCV(poly_model, param_grid, cv=cv)\n",
    "grid.fit(x[:, np.newaxis], y)\n",
    "grid.best_params_\n",
    "grid.best_score_\n",
    "grid.cv_results_\n"
   ]
  },
  {
   "cell_type": "code",
   "execution_count": 24,
   "metadata": {},
   "outputs": [
    {
     "data": {
      "text/plain": [
       "[<matplotlib.lines.Line2D at 0x7fcf4eeef940>]"
      ]
     },
     "execution_count": 24,
     "metadata": {},
     "output_type": "execute_result"
    },
    {
     "data": {
      "image/png": "[encoded data removed]",
      "text/plain": [
       "<Figure size 432x288 with 1 Axes>"
      ]
     },
     "metadata": {
      "needs_background": "light"
     },
     "output_type": "display_data"
    }
   ],
   "source": [
    "#Build a model using best parametrs\n",
    "poly_model = make_pipeline (PolynomialFeatures(10), LinearRegression())\n",
    "poly_model.fit(x[:, np.newaxis],y)\n",
    "xfit = np.linspace(0, 10, 1000)\n",
    "yfit = poly_model.predict(xfit[:, np.newaxis])\n",
    "plt.scatter(x, y)\n",
    "plt.plot(xfit, yfit)\n"
   ]
  },
  {
   "cell_type": "code",
   "execution_count": 68,
   "metadata": {},
   "outputs": [
    {
     "data": {
      "text/plain": [
       "<matplotlib.legend.Legend at 0x7fcf4e951048>"
      ]
     },
     "execution_count": 68,
     "metadata": {},
     "output_type": "execute_result"
    },
    {
     "data": {
      "image/png": "[encoded data removed]",
      "text/plain": [
       "<Figure size 864x288 with 1 Axes>"
      ]
     },
     "metadata": {
      "needs_background": "light"
     },
     "output_type": "display_data"
    }
   ],
   "source": [
    "from sklearn.model_selection import learning_curve\n",
    "N, train_lc, val_lc = learning_curve(poly_model, x[:, np.newaxis], y, cv=5,train_sizes=np.linspace(0.3, 1, 20))\n",
    "np.linspace(0.3, 1, 20)\n",
    "plt.figure(figsize=(12,4))\n",
    "plt.plot(N, np.mean(train_lc, 1), color='blue', label='training score')\n",
    "plt.plot(N, np.mean(val_lc, 1), color='red', label='validation score')\n",
    "plt.hlines(np.mean([train_lc[-1], val_lc[-1]]), N[0], N[-1], color='gray', linestyle='dashed')\n",
    "plt.ylim(0, 1)\n",
    "plt.xlim(N[0], N[-1])\n",
    "plt.xlabel('training size')\n",
    "plt.ylabel('score')\n",
    "plt.title('degree = 10')\n",
    "plt.legend(loc ='best')"
   ]
  },
  {
   "cell_type": "code",
   "execution_count": null,
   "metadata": {},
   "outputs": [],
   "source": [
    "#"
   ]
  }
 ],
 "metadata": {
  "kernelspec": {
   "display_name": "Python 3",
   "language": "python",
   "name": "python3"
  },
  "language_info": {
   "codemirror_mode": {
    "name": "ipython",
    "version": 3
   },
   "file_extension": ".py",
   "mimetype": "text/x-python",
   "name": "python",
   "nbconvert_exporter": "python",
   "pygments_lexer": "ipython3",
   "version": "3.8.8"
  }
 },
 "nbformat": 4,
 "nbformat_minor": 4
}
